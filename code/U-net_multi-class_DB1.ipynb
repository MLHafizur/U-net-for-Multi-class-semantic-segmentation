{
 "cells": [
  {
   "cell_type": "markdown",
   "metadata": {},
   "source": [
    "# This code implements segmentation of pathological regions from retinal images using a U-net model with depth 4 and tensorflow 2.x versions.\n",
    "\n",
    "## This code implements multi-class classification\n",
    "## This model is adapted from the original codebase in https://github.com/HZCTony/U-net-with-multiple-classification"
   ]
  },
  {
   "cell_type": "code",
   "execution_count": 1,
   "metadata": {},
   "outputs": [],
   "source": [
    "#This code snippet helps if your computer has RTX 2070 GPU. If not then comment this cell.\n",
    "from tensorflow.compat.v1 import ConfigProto\n",
    "from tensorflow.compat.v1 import InteractiveSession\n",
    "\n",
    "config = ConfigProto()\n",
    "config.gpu_options.allow_growth = True\n",
    "session = InteractiveSession(config=config)"
   ]
  },
  {
   "cell_type": "markdown",
   "metadata": {},
   "source": [
    "# A. Lets start by stepwise defining all libraries and functions needed to generate the model and pre-process the data"
   ]
  },
  {
   "cell_type": "code",
   "execution_count": 2,
   "metadata": {},
   "outputs": [],
   "source": [
    "#Step 1: Load libraries for the U-net Model\n",
    "import numpy as np \n",
    "import os\n",
    "import skimage.io as io\n",
    "import skimage.transform as trans\n",
    "import numpy as np\n",
    "from tensorflow.keras.models import *\n",
    "from tensorflow.keras.layers import *\n",
    "from tensorflow.keras.optimizers import *\n",
    "from tensorflow.keras.callbacks import ModelCheckpoint, LearningRateScheduler\n",
    "from tensorflow.keras import backend as keras\n",
    "#from tensorflow import keras\n",
    "import tensorflow as tf"
   ]
  },
  {
   "cell_type": "code",
   "execution_count": 3,
   "metadata": {},
   "outputs": [],
   "source": [
    "#Step 2: Import the U-net model\n",
    "from model_depth_3 import *\n",
    "img_size=(128,128)"
   ]
  },
  {
   "cell_type": "code",
   "execution_count": 4,
   "metadata": {},
   "outputs": [],
   "source": [
    "n_class=3\n",
    "#Create Groundtruth with 5 planes:[Red Lesions(0), Bright Lesions(1), background (2) ]"
   ]
  },
  {
   "cell_type": "code",
   "execution_count": 5,
   "metadata": {},
   "outputs": [],
   "source": [
    "#Step 3:Define functions for pre-processing data\n",
    "from tensorflow.keras.preprocessing.image import ImageDataGenerator\n",
    "import skimage.io as io\n",
    "import skimage.transform as trans\n",
    "import matplotlib.pyplot as plt\n",
    "import scipy.misc as sc\n",
    "\n",
    "\n",
    "def trainGenerator(batch_size,train_path,image_folder,mask_folder,aug_dict,image_color_mode = \"grayscale\",\n",
    "                    mask_color_mode = \"rgb\",image_save_prefix  = \"image\",mask_save_prefix  = \"mask\",\n",
    "                    flag_multi_class = True,n_class = n_class,save_to_dir = None,target_size = img_size,seed = 1):\n",
    "    '''\n",
    "    can generate image and mask at the same time\n",
    "    use the same seed for image_datagen and mask_datagen to ensure the transformation for image and mask is the same\n",
    "    if you want to visualize the results of generator, set save_to_dir = \"your path\"\n",
    "    '''\n",
    "    image_datagen = ImageDataGenerator(**aug_dict)\n",
    "    mask_datagen = ImageDataGenerator(**aug_dict)\n",
    "    image_generator = image_datagen.flow_from_directory(\n",
    "        train_path,\n",
    "        classes = [image_folder],\n",
    "        color_mode = image_color_mode,\n",
    "        target_size = target_size,\n",
    "        batch_size = batch_size,\n",
    "        save_to_dir = save_to_dir,\n",
    "        save_prefix  = image_save_prefix,\n",
    "        class_mode=None,\n",
    "        seed = seed)\n",
    "    mask_generator = mask_datagen.flow_from_directory(\n",
    "        train_path,\n",
    "        classes = [mask_folder],\n",
    "        color_mode = mask_color_mode,\n",
    "        target_size = target_size,\n",
    "        batch_size = batch_size,\n",
    "        save_to_dir = save_to_dir,\n",
    "        save_prefix  = mask_save_prefix,\n",
    "        class_mode=None,\n",
    "        seed = seed)\n",
    "    train_generator = zip(image_generator, mask_generator)\n",
    "    for (img,mask) in train_generator:\n",
    "        yield (img,mask)\n",
    "    \n",
    "\n",
    "def testGenerator(test_path,target_size = img_size,flag_multi_class = True,as_gray = True):\n",
    "    files=sorted(os.listdir(test_path))\n",
    "    num_image=len(files)\n",
    "    for i in range(num_image):\n",
    "        img = io.imread(os.path.join(test_path,files[i]),as_gray = True)\n",
    "        print(files[i])\n",
    "        img = trans.resize(img,target_size)\n",
    "        #img = np.reshape(img,img.shape+(1,)) if (not flag_multi_class) else img\n",
    "        img = np.reshape(img,(1,)+img.shape)\n",
    "        yield img"
   ]
  },
  {
   "cell_type": "code",
   "execution_count": 6,
   "metadata": {},
   "outputs": [],
   "source": [
    "#Step 4: Define function to save the test images\n",
    "### draw imgs in labelVisualize and save results in saveResult\n",
    "def saveResult(img_path,save_path,npyfile):\n",
    "    files=os.listdir(img_path)\n",
    "        \n",
    "    for i,item in enumerate(npyfile):\n",
    "        img=item\n",
    "        for k in range(3):\n",
    "            img[:,:,k]=img[:,:,k]/np.ptp(img[:,:,k])\n",
    "            \n",
    "        img[:,:,1]=(img[:,:,1]>0.05).astype(int) #This threshold of 0.05 can be changed to any number in range [0,1]\n",
    "        img[:,:,0]=(img[:,:,0]>0.05).astype(int)\n",
    "              \n",
    "        io.imsave(os.path.join(save_path, files[i]),img)"
   ]
  },
  {
   "cell_type": "code",
   "execution_count": 7,
   "metadata": {},
   "outputs": [],
   "source": [
    "def SaveResultwImage(img_path,save_path,npyfile,target_size=img_size,flag_multi_class = True,num_class = 2):\n",
    "    files=os.listdir(img_path)\n",
    "    \n",
    "    \n",
    "    for i,item in enumerate(npyfile):\n",
    "        img=item\n",
    "        img[img>0.5]=1\n",
    "        img[img<=0.5]=0\n",
    "        img[:,:,2]=0\n",
    "        \n",
    "        I = io.imread(os.path.join(img_path,files[i]), as_gray=True)\n",
    "        I = trans.resize(I,target_size)\n",
    "        img[:,:,0]=np.true_divide((I+img[:,:,0]),2)\n",
    "        img[:,:,1]=np.true_divide((I+img[:,:,1]),2)\n",
    "        img[:,:,2]=np.true_divide((I+img[:,:,2]),2)\n",
    "        io.imsave(os.path.join(save_path, files[i]),img)        "
   ]
  },
  {
   "cell_type": "code",
   "execution_count": 8,
   "metadata": {},
   "outputs": [],
   "source": [
    "#Step 5: Define functions to evaluate the output\n",
    "import sklearn.metrics as sm\n",
    "\n",
    "def get_confusion_matrix_elements(groundtruth_list, predicted_list):\n",
    "    \"\"\"returns confusion matrix elements i.e TN, FP, FN, TP as floats\n",
    "\tSee example code for helper function definitions\n",
    "    \"\"\"\n",
    "    tn, fp, fn, tp = sm.confusion_matrix(groundtruth_list, predicted_list,labels=[0,1]).ravel()\n",
    "    tn, fp, fn, tp = np.float64(tn), np.float64(fp), np.float64(fn), np.float64(tp)\n",
    "\n",
    "    return tn, fp, fn, tp\n",
    "\n",
    "def get_prec_rec_IoU_accuracy(groundtruth_list, predicted_list):\n",
    "    \"\"\"returns precision, recall, IoU and accuracy metrics\n",
    "\t\"\"\"\n",
    "    tn, fp, fn, tp = get_confusion_matrix_elements(groundtruth_list, predicted_list)\n",
    "    \n",
    "    total = tp + fp + fn + tn\n",
    "    accuracy = (tp + tn) / total\n",
    "    prec=tp/(tp+fp)\n",
    "    rec=tp/(tp+fn)\n",
    "    IoU=tp/(tp+fp+fn)\n",
    "    \n",
    "    return prec,rec,IoU,accuracy\n",
    "\n",
    "def get_f1_score(groundtruth_list, predicted_list):\n",
    "    \"\"\"Return f1 score covering edge cases\"\"\"\n",
    "\n",
    "    tn, fp, fn, tp = get_confusion_matrix_elements(groundtruth_list, predicted_list)\n",
    "    \n",
    "    f1_score = (2 * tp) / ((2 * tp) + fp + fn)\n",
    "\n",
    "    return f1_score\n",
    "\n",
    "def get_validation_metrics(groundtruth,predicted):\n",
    "    \"\"\"Return all output metrics. Input is binary images\"\"\"\n",
    "   \n",
    "    u,v=np.shape(groundtruth)\n",
    "    groundtruth_list=np.reshape(groundtruth,(u*v,))\n",
    "    predicted_list=np.reshape(predicted,(u*v,))\n",
    "    prec,rec,IoU,acc=get_prec_rec_IoU_accuracy(groundtruth_list, predicted_list)\n",
    "    f1_score=get_f1_score(groundtruth_list, predicted_list)\n",
    "   # print(\"Precision=\",prec, \"Recall=\",rec, \"IoU=\",IoU, \"acc=\",acc, \"F1=\",f1_score)\n",
    "    return prec,rec,IoU,acc,f1_score\n",
    "\n",
    "def evalResult(gth_path,npyfile,target_size=img_size,flag_multi_class = False,num_class = 3):\n",
    "    files=sorted(os.listdir(gth_path))\n",
    "    print(files)\n",
    "    prec=0\n",
    "    rec=0\n",
    "    acc=0\n",
    "    IoU=0\n",
    "    f1_score=0\n",
    "    for i,item in enumerate(npyfile):\n",
    "        img = item[:,:,0]\n",
    "        gth = io.imread(os.path.join(gth_path,files[i]))\n",
    "        gth = trans.resize(gth,target_size)\n",
    "        img1=np.array(((img - np.min(img))/np.ptp(img))>0.1).astype(float)\n",
    "        gth1=np.array(((gth - np.min(gth))/np.ptp(gth))>0.1).astype(float)\n",
    "        p,r,I,a,f=get_validation_metrics(gth1,img1)\n",
    "        prec=prec+p\n",
    "        rec=rec+r\n",
    "        acc=acc+a\n",
    "        IoU=IoU+I\n",
    "        f1_score=f1_score+f\n",
    "    print(\"Precision=\",prec/(i+1), \"Recall=\",rec/(i+1), \"IoU=\",IoU/(i+1), \"acc=\",acc/(i+1), \"F1=\",f1_score/(i+1))    "
   ]
  },
  {
   "cell_type": "markdown",
   "metadata": {},
   "source": [
    "# All definitions are now done! Lets start using the functions now...\n",
    "# B. Call to image data generator, model initialization, followed by model fitting."
   ]
  },
  {
   "cell_type": "code",
   "execution_count": 9,
   "metadata": {},
   "outputs": [],
   "source": [
    "#Step 1: Call to image data generator in keras\n",
    "data_gen_args = dict(rotation_range=0.3,\n",
    "                     rescale=1./255,\n",
    "                    width_shift_range=0.1,\n",
    "                    height_shift_range=0.1,\n",
    "                    shear_range=0.1,\n",
    "                    zoom_range=[0.7,1],\n",
    "                    horizontal_flip=True,\n",
    "                    fill_mode='nearest')\n",
    "PATH='./Multi-class/train/'"
   ]
  },
  {
   "cell_type": "code",
   "execution_count": 10,
   "metadata": {},
   "outputs": [],
   "source": [
    "if not os.path.exists(PATH+'aug'):\n",
    "    os.makedirs(PATH+'aug')\n",
    "    \n",
    "if not os.path.exists(PATH+'pred'):\n",
    "    os.makedirs(PATH+'pred')    \n"
   ]
  },
  {
   "cell_type": "code",
   "execution_count": 11,
   "metadata": {},
   "outputs": [],
   "source": [
    "data_gen = trainGenerator(3,PATH,'images','GT',data_gen_args, save_to_dir = None)"
   ]
  },
  {
   "cell_type": "code",
   "execution_count": 12,
   "metadata": {},
   "outputs": [
    {
     "name": "stdout",
     "output_type": "stream",
     "text": [
      "Epoch 0\n",
      "Found 27 images belonging to 1 classes.\n",
      "Found 27 images belonging to 1 classes.\n",
      "0.82609594\n"
     ]
    },
    {
     "data": {
      "image/png": "[encoded data removed]",
      "text/plain": [
       "<Figure size 432x288 with 2 Axes>"
      ]
     },
     "metadata": {
      "needs_background": "light"
     },
     "output_type": "display_data"
    },
    {
     "name": "stdout",
     "output_type": "stream",
     "text": [
      "Epoch 1\n",
      "0.563756\n"
     ]
    },
    {
     "data": {
      "image/png": "[encoded data removed]",
      "text/plain": [
       "<Figure size 432x288 with 2 Axes>"
      ]
     },
     "metadata": {
      "needs_background": "light"
     },
     "output_type": "display_data"
    },
    {
     "name": "stdout",
     "output_type": "stream",
     "text": [
      "Epoch 2\n",
      "0.76957643\n"
     ]
    },
    {
     "data": {
      "image/png": "[encoded data removed]",
      "text/plain": [
       "<Figure size 432x288 with 2 Axes>"
      ]
     },
     "metadata": {
      "needs_background": "light"
     },
     "output_type": "display_data"
    },
    {
     "name": "stdout",
     "output_type": "stream",
     "text": [
      "Epoch 3\n",
      "0.68633425\n"
     ]
    },
    {
     "data": {
      "image/png": "[encoded data removed]",
      "text/plain": [
       "<Figure size 432x288 with 2 Axes>"
      ]
     },
     "metadata": {
      "needs_background": "light"
     },
     "output_type": "display_data"
    },
    {
     "name": "stdout",
     "output_type": "stream",
     "text": [
      "Epoch 4\n",
      "0.8205645\n"
     ]
    },
    {
     "data": {
      "image/png": "[encoded data removed]",
      "text/plain": [
       "<Figure size 432x288 with 2 Axes>"
      ]
     },
     "metadata": {
      "needs_background": "light"
     },
     "output_type": "display_data"
    }
   ],
   "source": [
    "for e in range(5):\n",
    "    print('Epoch', e)\n",
    "    batches = 0\n",
    "    for x_batch, y_batch in data_gen:\n",
    "        print(np.max(x_batch))\n",
    "        for i in range(0, 2):\n",
    "            plt.subplot(330+1 + i)\n",
    "            plt.imshow(y_batch[i], cmap=plt.get_cmap('gray'))\n",
    "        \n",
    "\n",
    "        plt.show()\n",
    "        \n",
    "        break"
   ]
  },
  {
   "cell_type": "code",
   "execution_count": 13,
   "metadata": {},
   "outputs": [
    {
     "name": "stdout",
     "output_type": "stream",
     "text": [
      "Model: \"model\"\n",
      "__________________________________________________________________________________________________\n",
      "Layer (type)                    Output Shape         Param #     Connected to                     \n",
      "==================================================================================================\n",
      "input_1 (InputLayer)            [(None, 128, 128, 1) 0                                            \n",
      "__________________________________________________________________________________________________\n",
      "conv2d (Conv2D)                 (None, 128, 128, 32) 320         input_1[0][0]                    \n",
      "__________________________________________________________________________________________________\n",
      "batch_normalization (BatchNorma (None, 128, 128, 32) 128         conv2d[0][0]                     \n",
      "__________________________________________________________________________________________________\n",
      "conv2d_1 (Conv2D)               (None, 128, 128, 32) 9248        batch_normalization[0][0]        \n",
      "__________________________________________________________________________________________________\n",
      "batch_normalization_1 (BatchNor (None, 128, 128, 32) 128         conv2d_1[0][0]                   \n",
      "__________________________________________________________________________________________________\n",
      "max_pooling2d (MaxPooling2D)    (None, 64, 64, 32)   0           batch_normalization_1[0][0]      \n",
      "__________________________________________________________________________________________________\n",
      "conv2d_2 (Conv2D)               (None, 64, 64, 64)   18496       max_pooling2d[0][0]              \n",
      "__________________________________________________________________________________________________\n",
      "batch_normalization_2 (BatchNor (None, 64, 64, 64)   256         conv2d_2[0][0]                   \n",
      "__________________________________________________________________________________________________\n",
      "conv2d_3 (Conv2D)               (None, 64, 64, 64)   36928       batch_normalization_2[0][0]      \n",
      "__________________________________________________________________________________________________\n",
      "batch_normalization_3 (BatchNor (None, 64, 64, 64)   256         conv2d_3[0][0]                   \n",
      "__________________________________________________________________________________________________\n",
      "max_pooling2d_1 (MaxPooling2D)  (None, 32, 32, 64)   0           batch_normalization_3[0][0]      \n",
      "__________________________________________________________________________________________________\n",
      "conv2d_4 (Conv2D)               (None, 32, 32, 128)  73856       max_pooling2d_1[0][0]            \n",
      "__________________________________________________________________________________________________\n",
      "batch_normalization_4 (BatchNor (None, 32, 32, 128)  512         conv2d_4[0][0]                   \n",
      "__________________________________________________________________________________________________\n",
      "conv2d_5 (Conv2D)               (None, 32, 32, 128)  147584      batch_normalization_4[0][0]      \n",
      "__________________________________________________________________________________________________\n",
      "batch_normalization_5 (BatchNor (None, 32, 32, 128)  512         conv2d_5[0][0]                   \n",
      "__________________________________________________________________________________________________\n",
      "max_pooling2d_2 (MaxPooling2D)  (None, 16, 16, 128)  0           batch_normalization_5[0][0]      \n",
      "__________________________________________________________________________________________________\n",
      "conv2d_6 (Conv2D)               (None, 16, 16, 256)  295168      max_pooling2d_2[0][0]            \n",
      "__________________________________________________________________________________________________\n",
      "batch_normalization_6 (BatchNor (None, 16, 16, 256)  1024        conv2d_6[0][0]                   \n",
      "__________________________________________________________________________________________________\n",
      "conv2d_7 (Conv2D)               (None, 16, 16, 256)  590080      batch_normalization_6[0][0]      \n",
      "__________________________________________________________________________________________________\n",
      "batch_normalization_7 (BatchNor (None, 16, 16, 256)  1024        conv2d_7[0][0]                   \n",
      "__________________________________________________________________________________________________\n",
      "dropout (Dropout)               (None, 16, 16, 256)  0           batch_normalization_7[0][0]      \n",
      "__________________________________________________________________________________________________\n",
      "conv2d_8 (Conv2D)               (None, 16, 16, 256)  590080      dropout[0][0]                    \n",
      "__________________________________________________________________________________________________\n",
      "batch_normalization_8 (BatchNor (None, 16, 16, 256)  1024        conv2d_8[0][0]                   \n",
      "__________________________________________________________________________________________________\n",
      "conv2d_9 (Conv2D)               (None, 16, 16, 256)  590080      batch_normalization_8[0][0]      \n",
      "__________________________________________________________________________________________________\n",
      "batch_normalization_9 (BatchNor (None, 16, 16, 256)  1024        conv2d_9[0][0]                   \n",
      "__________________________________________________________________________________________________\n",
      "dropout_1 (Dropout)             (None, 16, 16, 256)  0           batch_normalization_9[0][0]      \n",
      "__________________________________________________________________________________________________\n",
      "up_sampling2d (UpSampling2D)    (None, 32, 32, 256)  0           dropout_1[0][0]                  \n",
      "__________________________________________________________________________________________________\n",
      "conv2d_10 (Conv2D)              (None, 32, 32, 128)  131200      up_sampling2d[0][0]              \n",
      "__________________________________________________________________________________________________\n",
      "concatenate (Concatenate)       (None, 32, 32, 256)  0           batch_normalization_5[0][0]      \n",
      "                                                                 conv2d_10[0][0]                  \n",
      "__________________________________________________________________________________________________\n",
      "conv2d_11 (Conv2D)              (None, 32, 32, 128)  295040      concatenate[0][0]                \n",
      "__________________________________________________________________________________________________\n",
      "conv2d_12 (Conv2D)              (None, 32, 32, 128)  147584      conv2d_11[0][0]                  \n",
      "__________________________________________________________________________________________________\n",
      "up_sampling2d_1 (UpSampling2D)  (None, 64, 64, 128)  0           conv2d_12[0][0]                  \n",
      "__________________________________________________________________________________________________\n",
      "conv2d_13 (Conv2D)              (None, 64, 64, 64)   32832       up_sampling2d_1[0][0]            \n",
      "__________________________________________________________________________________________________\n",
      "concatenate_1 (Concatenate)     (None, 64, 64, 128)  0           batch_normalization_3[0][0]      \n",
      "                                                                 conv2d_13[0][0]                  \n",
      "__________________________________________________________________________________________________\n",
      "conv2d_14 (Conv2D)              (None, 64, 64, 64)   73792       concatenate_1[0][0]              \n",
      "__________________________________________________________________________________________________\n",
      "conv2d_15 (Conv2D)              (None, 64, 64, 64)   36928       conv2d_14[0][0]                  \n",
      "__________________________________________________________________________________________________\n",
      "up_sampling2d_2 (UpSampling2D)  (None, 128, 128, 64) 0           conv2d_15[0][0]                  \n",
      "__________________________________________________________________________________________________\n",
      "conv2d_16 (Conv2D)              (None, 128, 128, 32) 8224        up_sampling2d_2[0][0]            \n",
      "__________________________________________________________________________________________________\n",
      "concatenate_2 (Concatenate)     (None, 128, 128, 64) 0           batch_normalization_1[0][0]      \n",
      "                                                                 conv2d_16[0][0]                  \n",
      "__________________________________________________________________________________________________\n",
      "conv2d_17 (Conv2D)              (None, 128, 128, 32) 18464       concatenate_2[0][0]              \n",
      "__________________________________________________________________________________________________\n",
      "conv2d_18 (Conv2D)              (None, 128, 128, 32) 9248        conv2d_17[0][0]                  \n",
      "__________________________________________________________________________________________________\n",
      "conv2d_19 (Conv2D)              (None, 128, 128, 3)  99          conv2d_18[0][0]                  \n",
      "==================================================================================================\n",
      "Total params: 3,111,139\n",
      "Trainable params: 3,108,195\n",
      "Non-trainable params: 2,944\n",
      "__________________________________________________________________________________________________\n"
     ]
    }
   ],
   "source": [
    "#Step 2: Initialize the model. Train from scratch!\n",
    "model = unet()\n",
    "model.summary()"
   ]
  },
  {
   "cell_type": "code",
   "execution_count": 14,
   "metadata": {},
   "outputs": [],
   "source": [
    "#Step 3: Initialize Tensorboard to monitor changes in Model Loss \n",
    "import datetime\n",
    "%load_ext tensorboard\n",
    "log_dir = \"logs/fit/\" + datetime.datetime.now().strftime(\"%Y%m%d-%H%M%S\")\n",
    "tensorboard_callback = tf.keras.callbacks.TensorBoard(log_dir=log_dir, histogram_freq=1)"
   ]
  },
  {
   "cell_type": "code",
   "execution_count": 15,
   "metadata": {
    "scrolled": true
   },
   "outputs": [
    {
     "data": {
      "text/plain": [
       "Reusing TensorBoard on port 6006 (pid 5612), started 1:13:19 ago. (Use '!kill 5612' to kill it.)"
      ]
     },
     "metadata": {},
     "output_type": "display_data"
    },
    {
     "data": {
      "text/html": [
       "\n",
       "      <iframe id=\"tensorboard-frame-5fcab4c53ba8ab9\" width=\"100%\" height=\"800\" frameborder=\"0\">\n",
       "      </iframe>\n",
       "      <script>\n",
       "        (function() {\n",
       "          const frame = document.getElementById(\"tensorboard-frame-5fcab4c53ba8ab9\");\n",
       "          const url = new URL(\"/\", window.location);\n",
       "          url.port = 6006;\n",
       "          frame.src = url;\n",
       "        })();\n",
       "      </script>\n",
       "  "
      ],
      "text/plain": [
       "<IPython.core.display.HTML object>"
      ]
     },
     "metadata": {},
     "output_type": "display_data"
    }
   ],
   "source": [
    "#Visualize on tensorboard (move this above)\n",
    "%tensorboard --logdir logs/fit"
   ]
  },
  {
   "cell_type": "code",
   "execution_count": 16,
   "metadata": {
    "scrolled": true
   },
   "outputs": [
    {
     "name": "stdout",
     "output_type": "stream",
     "text": [
      "Epoch 1/40\n",
      "20/20 [==============================] - 5s 255ms/step - loss: -0.1454 - dice_coef: 0.1454\n",
      "Epoch 2/40\n",
      "20/20 [==============================] - 5s 257ms/step - loss: -0.2346 - dice_coef: 0.2346\n",
      "Epoch 3/40\n",
      "20/20 [==============================] - 5s 256ms/step - loss: -0.2929 - dice_coef: 0.2929\n",
      "Epoch 4/40\n",
      "20/20 [==============================] - 5s 257ms/step - loss: -0.3097 - dice_coef: 0.3097\n",
      "Epoch 5/40\n",
      "20/20 [==============================] - 5s 260ms/step - loss: -0.3031 - dice_coef: 0.3031\n",
      "Epoch 6/40\n",
      "20/20 [==============================] - 6s 278ms/step - loss: -0.3320 - dice_coef: 0.3320\n",
      "Epoch 7/40\n",
      "20/20 [==============================] - 6s 280ms/step - loss: -0.3121 - dice_coef: 0.3121\n",
      "Epoch 8/40\n",
      "20/20 [==============================] - 6s 280ms/step - loss: -0.3188 - dice_coef: 0.3188\n",
      "Epoch 9/40\n",
      "20/20 [==============================] - 6s 281ms/step - loss: -0.3325 - dice_coef: 0.3325\n",
      "Epoch 10/40\n",
      "20/20 [==============================] - 6s 280ms/step - loss: -0.3235 - dice_coef: 0.3235\n",
      "Epoch 11/40\n",
      "20/20 [==============================] - 6s 284ms/step - loss: -0.3154 - dice_coef: 0.3154\n",
      "Epoch 12/40\n",
      "20/20 [==============================] - 6s 279ms/step - loss: -0.3328 - dice_coef: 0.3328\n",
      "Epoch 13/40\n",
      "20/20 [==============================] - 6s 281ms/step - loss: -0.3317 - dice_coef: 0.3317\n",
      "Epoch 14/40\n",
      "20/20 [==============================] - 6s 280ms/step - loss: -0.3247 - dice_coef: 0.3247\n",
      "Epoch 15/40\n",
      "20/20 [==============================] - 6s 281ms/step - loss: -0.3515 - dice_coef: 0.3515\n",
      "Epoch 16/40\n",
      "20/20 [==============================] - 6s 283ms/step - loss: -0.3327 - dice_coef: 0.3327\n",
      "Epoch 17/40\n",
      "20/20 [==============================] - 6s 280ms/step - loss: -0.3426 - dice_coef: 0.3426\n",
      "Epoch 18/40\n",
      "20/20 [==============================] - 6s 281ms/step - loss: -0.3277 - dice_coef: 0.3277\n",
      "Epoch 19/40\n",
      "20/20 [==============================] - 6s 281ms/step - loss: -0.3619 - dice_coef: 0.3619\n",
      "Epoch 20/40\n",
      "20/20 [==============================] - 6s 281ms/step - loss: -0.3532 - dice_coef: 0.3532\n",
      "Epoch 21/40\n",
      "20/20 [==============================] - 6s 285ms/step - loss: -0.3527 - dice_coef: 0.3527\n",
      "Epoch 22/40\n",
      "20/20 [==============================] - 6s 279ms/step - loss: -0.3395 - dice_coef: 0.3395\n",
      "Epoch 23/40\n",
      "20/20 [==============================] - 6s 281ms/step - loss: -0.3404 - dice_coef: 0.3404\n",
      "Epoch 24/40\n",
      "20/20 [==============================] - 6s 280ms/step - loss: -0.3436 - dice_coef: 0.3436\n",
      "Epoch 25/40\n",
      "20/20 [==============================] - 6s 281ms/step - loss: -0.3417 - dice_coef: 0.3417\n",
      "Epoch 26/40\n",
      "20/20 [==============================] - 6s 283ms/step - loss: -0.3766 - dice_coef: 0.3766\n",
      "Epoch 27/40\n",
      "20/20 [==============================] - 6s 280ms/step - loss: -0.3470 - dice_coef: 0.3470\n",
      "Epoch 28/40\n",
      "20/20 [==============================] - 6s 280ms/step - loss: -0.3583 - dice_coef: 0.3583\n",
      "Epoch 29/40\n",
      "20/20 [==============================] - 6s 281ms/step - loss: -0.3452 - dice_coef: 0.3452\n",
      "Epoch 30/40\n",
      "20/20 [==============================] - 6s 281ms/step - loss: -0.3703 - dice_coef: 0.3703\n",
      "Epoch 31/40\n",
      "20/20 [==============================] - 6s 285ms/step - loss: -0.3441 - dice_coef: 0.3441\n",
      "Epoch 32/40\n",
      "20/20 [==============================] - 6s 280ms/step - loss: -0.3576 - dice_coef: 0.3576\n",
      "Epoch 33/40\n",
      "20/20 [==============================] - 6s 282ms/step - loss: -0.3513 - dice_coef: 0.3513\n",
      "Epoch 34/40\n",
      "20/20 [==============================] - 6s 278ms/step - loss: -0.3489 - dice_coef: 0.3489\n",
      "Epoch 35/40\n",
      "20/20 [==============================] - 6s 281ms/step - loss: -0.3981 - dice_coef: 0.3981\n",
      "Epoch 36/40\n",
      "20/20 [==============================] - 6s 282ms/step - loss: -0.3541 - dice_coef: 0.3541\n",
      "Epoch 37/40\n",
      "20/20 [==============================] - 6s 292ms/step - loss: -0.3624 - dice_coef: 0.3624\n",
      "Epoch 38/40\n",
      "20/20 [==============================] - 6s 288ms/step - loss: -0.3600 - dice_coef: 0.3600\n",
      "Epoch 39/40\n",
      "20/20 [==============================] - 6s 295ms/step - loss: -0.3707 - dice_coef: 0.3707\n",
      "Epoch 40/40\n",
      "20/20 [==============================] - 6s 280ms/step - loss: -0.3755 - dice_coef: 0.3755\n"
     ]
    },
    {
     "data": {
      "text/plain": [
       "<tensorflow.python.keras.callbacks.History at 0x7f71d0904100>"
      ]
     },
     "execution_count": 16,
     "metadata": {},
     "output_type": "execute_result"
    }
   ],
   "source": [
    "#Step 4: Fit the u-net model\n",
    "model_checkpoint = tf.keras.callbacks.ModelCheckpoint('unet_DB1_multi_512.hdf5', monitor='loss',verbose=0)\n",
    "model.fit(data_gen,steps_per_epoch=20,epochs=40,verbose=1, callbacks=[model_checkpoint, tensorboard_callback])"
   ]
  },
  {
   "cell_type": "markdown",
   "metadata": {},
   "source": [
    "# Final trained model is saved as unet_DB1.hdf5\n",
    "# C. Run the trained model on test images and save the outputs, and evaluate pixel-level segmentation performance "
   ]
  },
  {
   "cell_type": "code",
   "execution_count": 17,
   "metadata": {
    "scrolled": true
   },
   "outputs": [
    {
     "name": "stdout",
     "output_type": "stream",
     "text": [
      "WARNING:tensorflow:From <ipython-input-17-84da24e2bfdb>:7: Model.predict_generator (from tensorflow.python.keras.engine.training) is deprecated and will be removed in a future version.\n",
      "Instructions for updating:\n",
      "Please use Model.predict, which supports generators.\n",
      "image028.png\n",
      " 1/62 [..............................] - ETA: 0simage029.png\n",
      " 2/62 [..............................] - ETA: 3simage030.png\n",
      " 3/62 [>.............................] - ETA: 4simage031.png\n",
      " 4/62 [>.............................] - ETA: 4simage032.png\n",
      " 5/62 [=>............................] - ETA: 4simage033.png\n",
      " 6/62 [=>............................] - ETA: 4simage034.png\n",
      " 7/62 [==>...........................] - ETA: 4simage035.png\n",
      " 8/62 [==>...........................] - ETA: 4simage036.png\n",
      " 9/62 [===>..........................] - ETA: 4simage037.png\n",
      "10/62 [===>..........................] - ETA: 4simage038.png\n",
      "11/62 [====>.........................] - ETA: 4simage039.png\n",
      "12/62 [====>.........................] - ETA: 4simage040.png\n",
      "13/62 [=====>........................] - ETA: 4simage041.png\n",
      "14/62 [=====>........................] - ETA: 4simage042.png\n",
      "15/62 [======>.......................] - ETA: 4simage043.png\n",
      "16/62 [======>.......................] - ETA: 4simage044.png\n",
      "17/62 [=======>......................] - ETA: 4simage045.png\n",
      "18/62 [=======>......................] - ETA: 4simage046.png\n",
      "19/62 [========>.....................] - ETA: 4simage047.png\n",
      "20/62 [========>.....................] - ETA: 4simage048.png\n",
      "21/62 [=========>....................] - ETA: 4simage049.png\n",
      "22/62 [=========>....................] - ETA: 4simage050.png\n",
      "23/62 [==========>...................] - ETA: 3simage051.png\n",
      "24/62 [==========>...................] - ETA: 3simage052.png\n",
      "25/62 [===========>..................] - ETA: 3simage053.png\n",
      "26/62 [===========>..................] - ETA: 3simage054.png\n",
      "27/62 [============>.................] - ETA: 3simage055.png\n",
      "28/62 [============>.................] - ETA: 3simage056.png\n",
      "29/62 [=============>................] - ETA: 3simage057.png\n",
      "30/62 [=============>................] - ETA: 3simage058.png\n",
      "31/62 [==============>...............] - ETA: 3simage059.png\n",
      "32/62 [==============>...............] - ETA: 3simage060.png\n",
      "33/62 [==============>...............] - ETA: 3simage061.png\n",
      "34/62 [===============>..............] - ETA: 2simage062.png\n",
      "35/62 [===============>..............] - ETA: 2simage063.png\n",
      "36/62 [================>.............] - ETA: 2simage064.png\n",
      "37/62 [================>.............] - ETA: 2simage065.png\n",
      "38/62 [=================>............] - ETA: 2simage066.png\n",
      "39/62 [=================>............] - ETA: 2simage067.png\n",
      "40/62 [==================>...........] - ETA: 2simage068.png\n",
      "41/62 [==================>...........] - ETA: 2simage069.png\n",
      "42/62 [===================>..........] - ETA: 2simage070.png\n",
      "43/62 [===================>..........] - ETA: 2simage071.png\n",
      "44/62 [====================>.........] - ETA: 1simage072.png\n",
      "45/62 [====================>.........] - ETA: 1simage073.png\n",
      "46/62 [=====================>........] - ETA: 1simage074.png\n",
      "47/62 [=====================>........] - ETA: 1simage075.png\n",
      "48/62 [======================>.......] - ETA: 1simage076.png\n",
      "49/62 [======================>.......] - ETA: 1simage077.png\n",
      "50/62 [=======================>......] - ETA: 1simage078.png\n",
      "51/62 [=======================>......] - ETA: 1simage079.png\n",
      "52/62 [========================>.....] - ETA: 1simage080.png\n",
      "53/62 [========================>.....] - ETA: 0simage081.png\n",
      "54/62 [=========================>....] - ETA: 0simage082.png\n",
      "55/62 [=========================>....] - ETA: 0simage083.png\n",
      "56/62 [==========================>...] - ETA: 0simage084.png\n",
      "57/62 [==========================>...] - ETA: 0simage085.png\n",
      "58/62 [===========================>..] - ETA: 0simage086.png\n",
      "59/62 [===========================>..] - ETA: 0simage087.png\n",
      "60/62 [============================>.] - ETA: 0simage088.png\n",
      "61/62 [============================>.] - ETA: 0simage089.png\n",
      "62/62 [==============================] - 7s 106ms/step\n"
     ]
    }
   ],
   "source": [
    "#Step 1: Run model on test images and save the images\n",
    "#number of test images\n",
    "n_i=len(os.listdir('./Multi-class/test/images/'))\n",
    "#Call test generator\n",
    "test_gen = testGenerator('./Multi-class/test/images/')\n",
    "#Return model outcome for each test image\n",
    "results = model.predict_generator(test_gen,n_i,verbose=1)\n"
   ]
  },
  {
   "cell_type": "code",
   "execution_count": 18,
   "metadata": {},
   "outputs": [
    {
     "name": "stderr",
     "output_type": "stream",
     "text": [
      "Lossy conversion from float32 to uint8. Range [0, 1]. Convert image to uint8 prior to saving to suppress this warning.\n",
      "Lossy conversion from float32 to uint8. Range [0, 1]. Convert image to uint8 prior to saving to suppress this warning.\n",
      "Lossy conversion from float32 to uint8. Range [0, 1]. Convert image to uint8 prior to saving to suppress this warning.\n",
      "Lossy conversion from float32 to uint8. Range [0, 1]. Convert image to uint8 prior to saving to suppress this warning.\n",
      "Lossy conversion from float32 to uint8. Range [0, 1]. Convert image to uint8 prior to saving to suppress this warning.\n",
      "Lossy conversion from float32 to uint8. Range [0, 1]. Convert image to uint8 prior to saving to suppress this warning.\n",
      "Lossy conversion from float32 to uint8. Range [0, 1]. Convert image to uint8 prior to saving to suppress this warning.\n",
      "Lossy conversion from float32 to uint8. Range [0, 1]. Convert image to uint8 prior to saving to suppress this warning.\n",
      "Lossy conversion from float32 to uint8. Range [0, 1]. Convert image to uint8 prior to saving to suppress this warning.\n",
      "Lossy conversion from float32 to uint8. Range [0, 1]. Convert image to uint8 prior to saving to suppress this warning.\n",
      "Lossy conversion from float32 to uint8. Range [0, 1]. Convert image to uint8 prior to saving to suppress this warning.\n",
      "Lossy conversion from float32 to uint8. Range [0, 1]. Convert image to uint8 prior to saving to suppress this warning.\n",
      "Lossy conversion from float32 to uint8. Range [0, 1]. Convert image to uint8 prior to saving to suppress this warning.\n",
      "Lossy conversion from float32 to uint8. Range [0, 1]. Convert image to uint8 prior to saving to suppress this warning.\n",
      "Lossy conversion from float32 to uint8. Range [0, 1]. Convert image to uint8 prior to saving to suppress this warning.\n",
      "Lossy conversion from float32 to uint8. Range [0, 1]. Convert image to uint8 prior to saving to suppress this warning.\n",
      "Lossy conversion from float32 to uint8. Range [0, 1]. Convert image to uint8 prior to saving to suppress this warning.\n",
      "Lossy conversion from float32 to uint8. Range [0, 1]. Convert image to uint8 prior to saving to suppress this warning.\n",
      "Lossy conversion from float32 to uint8. Range [0, 1]. Convert image to uint8 prior to saving to suppress this warning.\n",
      "Lossy conversion from float32 to uint8. Range [0, 1]. Convert image to uint8 prior to saving to suppress this warning.\n",
      "Lossy conversion from float32 to uint8. Range [0, 1]. Convert image to uint8 prior to saving to suppress this warning.\n",
      "Lossy conversion from float32 to uint8. Range [0, 1]. Convert image to uint8 prior to saving to suppress this warning.\n",
      "Lossy conversion from float32 to uint8. Range [0, 1]. Convert image to uint8 prior to saving to suppress this warning.\n",
      "Lossy conversion from float32 to uint8. Range [0, 1]. Convert image to uint8 prior to saving to suppress this warning.\n",
      "Lossy conversion from float32 to uint8. Range [0, 1]. Convert image to uint8 prior to saving to suppress this warning.\n",
      "Lossy conversion from float32 to uint8. Range [0, 1]. Convert image to uint8 prior to saving to suppress this warning.\n",
      "Lossy conversion from float32 to uint8. Range [0, 1]. Convert image to uint8 prior to saving to suppress this warning.\n",
      "Lossy conversion from float32 to uint8. Range [0, 1]. Convert image to uint8 prior to saving to suppress this warning.\n",
      "Lossy conversion from float32 to uint8. Range [0, 1]. Convert image to uint8 prior to saving to suppress this warning.\n",
      "Lossy conversion from float32 to uint8. Range [0, 1]. Convert image to uint8 prior to saving to suppress this warning.\n",
      "Lossy conversion from float32 to uint8. Range [0, 1]. Convert image to uint8 prior to saving to suppress this warning.\n",
      "Lossy conversion from float32 to uint8. Range [0, 1]. Convert image to uint8 prior to saving to suppress this warning.\n",
      "Lossy conversion from float32 to uint8. Range [0, 1]. Convert image to uint8 prior to saving to suppress this warning.\n",
      "Lossy conversion from float32 to uint8. Range [0, 1]. Convert image to uint8 prior to saving to suppress this warning.\n",
      "Lossy conversion from float32 to uint8. Range [0, 1]. Convert image to uint8 prior to saving to suppress this warning.\n",
      "Lossy conversion from float32 to uint8. Range [0, 1]. Convert image to uint8 prior to saving to suppress this warning.\n",
      "Lossy conversion from float32 to uint8. Range [0, 1]. Convert image to uint8 prior to saving to suppress this warning.\n",
      "Lossy conversion from float32 to uint8. Range [0, 1]. Convert image to uint8 prior to saving to suppress this warning.\n",
      "Lossy conversion from float32 to uint8. Range [0, 1]. Convert image to uint8 prior to saving to suppress this warning.\n",
      "Lossy conversion from float32 to uint8. Range [0, 1]. Convert image to uint8 prior to saving to suppress this warning.\n",
      "Lossy conversion from float32 to uint8. Range [0, 1]. Convert image to uint8 prior to saving to suppress this warning.\n",
      "Lossy conversion from float32 to uint8. Range [0, 1]. Convert image to uint8 prior to saving to suppress this warning.\n",
      "Lossy conversion from float32 to uint8. Range [0, 1]. Convert image to uint8 prior to saving to suppress this warning.\n",
      "Lossy conversion from float32 to uint8. Range [0, 1]. Convert image to uint8 prior to saving to suppress this warning.\n",
      "Lossy conversion from float32 to uint8. Range [0, 1]. Convert image to uint8 prior to saving to suppress this warning.\n",
      "Lossy conversion from float32 to uint8. Range [0, 1]. Convert image to uint8 prior to saving to suppress this warning.\n",
      "Lossy conversion from float32 to uint8. Range [0, 1]. Convert image to uint8 prior to saving to suppress this warning.\n",
      "Lossy conversion from float32 to uint8. Range [0, 1]. Convert image to uint8 prior to saving to suppress this warning.\n",
      "Lossy conversion from float32 to uint8. Range [0, 1]. Convert image to uint8 prior to saving to suppress this warning.\n",
      "Lossy conversion from float32 to uint8. Range [0, 1]. Convert image to uint8 prior to saving to suppress this warning.\n",
      "Lossy conversion from float32 to uint8. Range [0, 1]. Convert image to uint8 prior to saving to suppress this warning.\n",
      "Lossy conversion from float32 to uint8. Range [0, 1]. Convert image to uint8 prior to saving to suppress this warning.\n",
      "Lossy conversion from float32 to uint8. Range [0, 1]. Convert image to uint8 prior to saving to suppress this warning.\n",
      "Lossy conversion from float32 to uint8. Range [0, 1]. Convert image to uint8 prior to saving to suppress this warning.\n",
      "Lossy conversion from float32 to uint8. Range [0, 1]. Convert image to uint8 prior to saving to suppress this warning.\n",
      "Lossy conversion from float32 to uint8. Range [0, 1]. Convert image to uint8 prior to saving to suppress this warning.\n",
      "Lossy conversion from float32 to uint8. Range [0, 1]. Convert image to uint8 prior to saving to suppress this warning.\n",
      "Lossy conversion from float32 to uint8. Range [0, 1]. Convert image to uint8 prior to saving to suppress this warning.\n",
      "Lossy conversion from float32 to uint8. Range [0, 1]. Convert image to uint8 prior to saving to suppress this warning.\n",
      "Lossy conversion from float32 to uint8. Range [0, 1]. Convert image to uint8 prior to saving to suppress this warning.\n",
      "Lossy conversion from float32 to uint8. Range [0, 1]. Convert image to uint8 prior to saving to suppress this warning.\n",
      "Lossy conversion from float32 to uint8. Range [0, 1]. Convert image to uint8 prior to saving to suppress this warning.\n"
     ]
    }
   ],
   "source": [
    "saveResult('./Multi-class/test/images',PATH+'pred/',results)"
   ]
  },
  {
   "cell_type": "code",
   "execution_count": 19,
   "metadata": {},
   "outputs": [
    {
     "name": "stderr",
     "output_type": "stream",
     "text": [
      "Lossy conversion from float32 to uint8. Range [0, 1]. Convert image to uint8 prior to saving to suppress this warning.\n",
      "Lossy conversion from float32 to uint8. Range [0, 1]. Convert image to uint8 prior to saving to suppress this warning.\n",
      "Lossy conversion from float32 to uint8. Range [0, 1]. Convert image to uint8 prior to saving to suppress this warning.\n",
      "Lossy conversion from float32 to uint8. Range [0, 1]. Convert image to uint8 prior to saving to suppress this warning.\n",
      "Lossy conversion from float32 to uint8. Range [0, 1]. Convert image to uint8 prior to saving to suppress this warning.\n",
      "Lossy conversion from float32 to uint8. Range [0, 1]. Convert image to uint8 prior to saving to suppress this warning.\n",
      "Lossy conversion from float32 to uint8. Range [0, 1]. Convert image to uint8 prior to saving to suppress this warning.\n",
      "Lossy conversion from float32 to uint8. Range [0, 1]. Convert image to uint8 prior to saving to suppress this warning.\n",
      "Lossy conversion from float32 to uint8. Range [0, 1]. Convert image to uint8 prior to saving to suppress this warning.\n",
      "Lossy conversion from float32 to uint8. Range [0, 1]. Convert image to uint8 prior to saving to suppress this warning.\n",
      "Lossy conversion from float32 to uint8. Range [0, 1]. Convert image to uint8 prior to saving to suppress this warning.\n",
      "Lossy conversion from float32 to uint8. Range [0, 1]. Convert image to uint8 prior to saving to suppress this warning.\n",
      "Lossy conversion from float32 to uint8. Range [0, 1]. Convert image to uint8 prior to saving to suppress this warning.\n",
      "Lossy conversion from float32 to uint8. Range [0, 1]. Convert image to uint8 prior to saving to suppress this warning.\n",
      "Lossy conversion from float32 to uint8. Range [0, 1]. Convert image to uint8 prior to saving to suppress this warning.\n",
      "Lossy conversion from float32 to uint8. Range [0, 1]. Convert image to uint8 prior to saving to suppress this warning.\n",
      "Lossy conversion from float32 to uint8. Range [0, 1]. Convert image to uint8 prior to saving to suppress this warning.\n",
      "Lossy conversion from float32 to uint8. Range [0, 1]. Convert image to uint8 prior to saving to suppress this warning.\n",
      "Lossy conversion from float32 to uint8. Range [0, 1]. Convert image to uint8 prior to saving to suppress this warning.\n",
      "Lossy conversion from float32 to uint8. Range [0, 1]. Convert image to uint8 prior to saving to suppress this warning.\n",
      "Lossy conversion from float32 to uint8. Range [0, 1]. Convert image to uint8 prior to saving to suppress this warning.\n",
      "Lossy conversion from float32 to uint8. Range [0, 1]. Convert image to uint8 prior to saving to suppress this warning.\n",
      "Lossy conversion from float32 to uint8. Range [0, 1]. Convert image to uint8 prior to saving to suppress this warning.\n",
      "Lossy conversion from float32 to uint8. Range [0, 1]. Convert image to uint8 prior to saving to suppress this warning.\n",
      "Lossy conversion from float32 to uint8. Range [0, 1]. Convert image to uint8 prior to saving to suppress this warning.\n",
      "Lossy conversion from float32 to uint8. Range [0, 1]. Convert image to uint8 prior to saving to suppress this warning.\n",
      "Lossy conversion from float32 to uint8. Range [0, 1]. Convert image to uint8 prior to saving to suppress this warning.\n",
      "Lossy conversion from float32 to uint8. Range [0, 1]. Convert image to uint8 prior to saving to suppress this warning.\n",
      "Lossy conversion from float32 to uint8. Range [0, 1]. Convert image to uint8 prior to saving to suppress this warning.\n",
      "Lossy conversion from float32 to uint8. Range [0, 1]. Convert image to uint8 prior to saving to suppress this warning.\n",
      "Lossy conversion from float32 to uint8. Range [0, 1]. Convert image to uint8 prior to saving to suppress this warning.\n",
      "Lossy conversion from float32 to uint8. Range [0, 1]. Convert image to uint8 prior to saving to suppress this warning.\n",
      "Lossy conversion from float32 to uint8. Range [0, 1]. Convert image to uint8 prior to saving to suppress this warning.\n",
      "Lossy conversion from float32 to uint8. Range [0, 1]. Convert image to uint8 prior to saving to suppress this warning.\n",
      "Lossy conversion from float32 to uint8. Range [0, 1]. Convert image to uint8 prior to saving to suppress this warning.\n",
      "Lossy conversion from float32 to uint8. Range [0, 1]. Convert image to uint8 prior to saving to suppress this warning.\n",
      "Lossy conversion from float32 to uint8. Range [0, 1]. Convert image to uint8 prior to saving to suppress this warning.\n",
      "Lossy conversion from float32 to uint8. Range [0, 1]. Convert image to uint8 prior to saving to suppress this warning.\n",
      "Lossy conversion from float32 to uint8. Range [0, 1]. Convert image to uint8 prior to saving to suppress this warning.\n",
      "Lossy conversion from float32 to uint8. Range [0, 1]. Convert image to uint8 prior to saving to suppress this warning.\n",
      "Lossy conversion from float32 to uint8. Range [0, 1]. Convert image to uint8 prior to saving to suppress this warning.\n",
      "Lossy conversion from float32 to uint8. Range [0, 1]. Convert image to uint8 prior to saving to suppress this warning.\n",
      "Lossy conversion from float32 to uint8. Range [0, 1]. Convert image to uint8 prior to saving to suppress this warning.\n",
      "Lossy conversion from float32 to uint8. Range [0, 1]. Convert image to uint8 prior to saving to suppress this warning.\n",
      "Lossy conversion from float32 to uint8. Range [0, 1]. Convert image to uint8 prior to saving to suppress this warning.\n",
      "Lossy conversion from float32 to uint8. Range [0, 1]. Convert image to uint8 prior to saving to suppress this warning.\n",
      "Lossy conversion from float32 to uint8. Range [0, 1]. Convert image to uint8 prior to saving to suppress this warning.\n",
      "Lossy conversion from float32 to uint8. Range [0, 1]. Convert image to uint8 prior to saving to suppress this warning.\n",
      "Lossy conversion from float32 to uint8. Range [0, 1]. Convert image to uint8 prior to saving to suppress this warning.\n",
      "Lossy conversion from float32 to uint8. Range [0, 1]. Convert image to uint8 prior to saving to suppress this warning.\n",
      "Lossy conversion from float32 to uint8. Range [0, 1]. Convert image to uint8 prior to saving to suppress this warning.\n",
      "Lossy conversion from float32 to uint8. Range [0, 1]. Convert image to uint8 prior to saving to suppress this warning.\n",
      "Lossy conversion from float32 to uint8. Range [0, 1]. Convert image to uint8 prior to saving to suppress this warning.\n",
      "Lossy conversion from float32 to uint8. Range [0, 1]. Convert image to uint8 prior to saving to suppress this warning.\n",
      "Lossy conversion from float32 to uint8. Range [0, 1]. Convert image to uint8 prior to saving to suppress this warning.\n",
      "Lossy conversion from float32 to uint8. Range [0, 1]. Convert image to uint8 prior to saving to suppress this warning.\n",
      "Lossy conversion from float32 to uint8. Range [0, 1]. Convert image to uint8 prior to saving to suppress this warning.\n",
      "Lossy conversion from float32 to uint8. Range [0, 1]. Convert image to uint8 prior to saving to suppress this warning.\n",
      "Lossy conversion from float32 to uint8. Range [0, 1]. Convert image to uint8 prior to saving to suppress this warning.\n",
      "Lossy conversion from float32 to uint8. Range [0, 1]. Convert image to uint8 prior to saving to suppress this warning.\n",
      "Lossy conversion from float32 to uint8. Range [0, 1]. Convert image to uint8 prior to saving to suppress this warning.\n",
      "Lossy conversion from float32 to uint8. Range [0, 1]. Convert image to uint8 prior to saving to suppress this warning.\n"
     ]
    }
   ],
   "source": [
    "SaveResultwImage('./Multi-class/test/images',PATH+'pred/',results)"
   ]
  },
  {
   "cell_type": "code",
   "execution_count": 20,
   "metadata": {},
   "outputs": [
    {
     "name": "stdout",
     "output_type": "stream",
     "text": [
      "408965.0\n"
     ]
    }
   ],
   "source": [
    "print(np.sum(results))"
   ]
  },
  {
   "cell_type": "code",
   "execution_count": 21,
   "metadata": {},
   "outputs": [
    {
     "data": {
      "text/plain": [
       "<matplotlib.image.AxesImage at 0x7f71a02da3d0>"
      ]
     },
     "execution_count": 21,
     "metadata": {},
     "output_type": "execute_result"
    },
    {
     "data": {
      "image/png": "[encoded data removed]",
      "text/plain": [
       "<Figure size 432x288 with 1 Axes>"
      ]
     },
     "metadata": {
      "needs_background": "light"
     },
     "output_type": "display_data"
    }
   ],
   "source": [
    "plt.imshow(results[0][:,:,0])"
   ]
  },
  {
   "cell_type": "code",
   "execution_count": 22,
   "metadata": {},
   "outputs": [
    {
     "data": {
      "text/plain": [
       "<matplotlib.image.AxesImage at 0x7f71a02abb80>"
      ]
     },
     "execution_count": 22,
     "metadata": {},
     "output_type": "execute_result"
    },
    {
     "data": {
      "image/png": "[encoded data removed]",
      "text/plain": [
       "<Figure size 432x288 with 1 Axes>"
      ]
     },
     "metadata": {
      "needs_background": "light"
     },
     "output_type": "display_data"
    }
   ],
   "source": [
    "plt.imshow(results[0])"
   ]
  },
  {
   "cell_type": "code",
   "execution_count": null,
   "metadata": {},
   "outputs": [],
   "source": [
    "\n",
    "\n",
    "\n",
    "\n"
   ]
  }
 ],
 "metadata": {
  "kernelspec": {
   "display_name": "Python 3",
   "language": "python",
   "name": "python3"
  },
  "language_info": {
   "codemirror_mode": {
    "name": "ipython",
    "version": 3
   },
   "file_extension": ".py",
   "mimetype": "text/x-python",
   "name": "python",
   "nbconvert_exporter": "python",
   "pygments_lexer": "ipython3",
   "version": "3.8.5"
  }
 },
 "nbformat": 4,
 "nbformat_minor": 4
}
