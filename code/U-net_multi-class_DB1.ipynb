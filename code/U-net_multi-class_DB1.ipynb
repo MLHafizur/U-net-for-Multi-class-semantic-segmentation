{
 "cells": [
  {
   "cell_type": "markdown",
   "metadata": {},
   "source": [
    "# This code implements segmentation of pathological regions from retinal images using a U-net model with depth 4 and tensorflow 2.x versions.\n",
    "\n",
    "## This code implements multi-class classification\n",
    "## This model is adapted from the original codebase in https://github.com/HZCTony/U-net-with-multiple-classification"
   ]
  },
  {
   "cell_type": "code",
   "execution_count": 1,
   "metadata": {},
   "outputs": [],
   "source": [
    "#This code snippet helps if your computer has RTX 2070 GPU. If not then comment this cell.\n",
    "from tensorflow.compat.v1 import ConfigProto\n",
    "from tensorflow.compat.v1 import InteractiveSession\n",
    "\n",
    "config = ConfigProto()\n",
    "config.gpu_options.allow_growth = True\n",
    "session = InteractiveSession(config=config)"
   ]
  },
  {
   "cell_type": "markdown",
   "metadata": {},
   "source": [
    "# A. Lets start by stepwise defining all libraries and functions needed to generate the model and pre-process the data"
   ]
  },
  {
   "cell_type": "code",
   "execution_count": 2,
   "metadata": {},
   "outputs": [],
   "source": [
    "#Step 1: Load libraries for the U-net Model\n",
    "import numpy as np \n",
    "import os\n",
    "import skimage.io as io\n",
    "import skimage.transform as trans\n",
    "import numpy as np\n",
    "from tensorflow.keras.models import *\n",
    "from tensorflow.keras.layers import *\n",
    "from tensorflow.keras.optimizers import *\n",
    "from tensorflow.keras.callbacks import ModelCheckpoint, LearningRateScheduler\n",
    "from tensorflow.keras import backend as keras\n",
    "#from tensorflow import keras\n",
    "import tensorflow as tf"
   ]
  },
  {
   "cell_type": "code",
   "execution_count": 3,
   "metadata": {},
   "outputs": [],
   "source": [
    "#Step 2: Import the U-net model\n",
    "from model_depth_3 import *\n",
    "img_size=(512,512)"
   ]
  },
  {
   "cell_type": "code",
   "execution_count": 4,
   "metadata": {},
   "outputs": [],
   "source": [
    "n_class=3\n",
    "#Create Groundtruth with 5 planes:[Red Lesions(0), Bright Lesions(1), background (2) ]"
   ]
  },
  {
   "cell_type": "code",
   "execution_count": 5,
   "metadata": {},
   "outputs": [],
   "source": [
    "#Step 3:Define functions for pre-processing data\n",
    "from tensorflow.keras.preprocessing.image import ImageDataGenerator\n",
    "import skimage.io as io\n",
    "import skimage.transform as trans\n",
    "import matplotlib.pyplot as plt\n",
    "import scipy.misc as sc\n",
    "\n",
    "\n",
    "def trainGenerator(batch_size,train_path,image_folder,mask_folder,aug_dict,image_color_mode = \"grayscale\",\n",
    "                    mask_color_mode = \"rgb\",image_save_prefix  = \"image\",mask_save_prefix  = \"mask\",\n",
    "                    flag_multi_class = True,n_class = n_class,save_to_dir = None,target_size = img_size,seed = 1):\n",
    "    '''\n",
    "    can generate image and mask at the same time\n",
    "    use the same seed for image_datagen and mask_datagen to ensure the transformation for image and mask is the same\n",
    "    if you want to visualize the results of generator, set save_to_dir = \"your path\"\n",
    "    '''\n",
    "    image_datagen = ImageDataGenerator(**aug_dict)\n",
    "    mask_datagen = ImageDataGenerator(**aug_dict)\n",
    "    image_generator = image_datagen.flow_from_directory(\n",
    "        train_path,\n",
    "        classes = [image_folder],\n",
    "        color_mode = image_color_mode,\n",
    "        target_size = target_size,\n",
    "        batch_size = batch_size,\n",
    "        save_to_dir = save_to_dir,\n",
    "        save_prefix  = image_save_prefix,\n",
    "        class_mode=None,\n",
    "        seed = seed)\n",
    "    mask_generator = mask_datagen.flow_from_directory(\n",
    "        train_path,\n",
    "        classes = [mask_folder],\n",
    "        color_mode = mask_color_mode,\n",
    "        target_size = target_size,\n",
    "        batch_size = batch_size,\n",
    "        save_to_dir = save_to_dir,\n",
    "        save_prefix  = mask_save_prefix,\n",
    "        class_mode=None,\n",
    "        seed = seed)\n",
    "    train_generator = zip(image_generator, mask_generator)\n",
    "    for (img,mask) in train_generator:\n",
    "        yield (img,mask)\n",
    "    \n",
    "\n",
    "def testGenerator(test_path,target_size = img_size,flag_multi_class = True,as_gray = True):\n",
    "    files=sorted(os.listdir(test_path))\n",
    "    num_image=len(files)\n",
    "    for i in range(num_image):\n",
    "        img = io.imread(os.path.join(test_path,files[i]),as_gray = True)\n",
    "        print(files[i])\n",
    "        img = trans.resize(img,target_size)\n",
    "        #img = np.reshape(img,img.shape+(1,)) if (not flag_multi_class) else img\n",
    "        img = np.reshape(img,(1,)+img.shape)\n",
    "        yield img"
   ]
  },
  {
   "cell_type": "code",
   "execution_count": 6,
   "metadata": {},
   "outputs": [],
   "source": [
    "#Step 4: Define function to save the test images\n",
    "### draw imgs in labelVisualize and save results in saveResult\n",
    "def saveResult(img_path,save_path,npyfile):\n",
    "    files=os.listdir(img_path)\n",
    "        \n",
    "    for i,item in enumerate(npyfile):\n",
    "        img=item\n",
    "        for k in range(3):\n",
    "            img[:,:,k]=img[:,:,k]/np.ptp(img[:,:,k])\n",
    "            \n",
    "        img[:,:,1]=(img[:,:,1]>0.5).astype(int) #This threshold of 0.05 can be changed to any number in range [0,1]\n",
    "        img[:,:,0]=(img[:,:,0]>0.5).astype(int)\n",
    "              \n",
    "        io.imsave(os.path.join(save_path, files[i]),img)"
   ]
  },
  {
   "cell_type": "code",
   "execution_count": 7,
   "metadata": {},
   "outputs": [],
   "source": [
    "def SaveResultwImage(img_path,save_path,npyfile,target_size=img_size,flag_multi_class = True,num_class = 2):\n",
    "    files=os.listdir(img_path)\n",
    "    \n",
    "    \n",
    "    for i,item in enumerate(npyfile):\n",
    "        img=item\n",
    "        img[img>0.5]=1\n",
    "        img[img<=0.5]=0\n",
    "        img[:,:,2]=0\n",
    "        \n",
    "        I = io.imread(os.path.join(img_path,files[i]), as_gray=True)\n",
    "        I = trans.resize(I,target_size)\n",
    "        img[:,:,0]=np.true_divide((I+img[:,:,0]),2)\n",
    "        img[:,:,1]=np.true_divide((I+img[:,:,1]),2)\n",
    "        img[:,:,2]=np.true_divide((I+img[:,:,2]),2)\n",
    "        io.imsave(os.path.join(save_path, files[i]),img)        "
   ]
  },
  {
   "cell_type": "code",
   "execution_count": 8,
   "metadata": {},
   "outputs": [],
   "source": [
    "#Step 5: Define functions to evaluate the output\n",
    "import sklearn.metrics as sm\n",
    "\n",
    "def get_confusion_matrix_elements(groundtruth_list, predicted_list):\n",
    "    \"\"\"returns confusion matrix elements i.e TN, FP, FN, TP as floats\n",
    "\tSee example code for helper function definitions\n",
    "    \"\"\"\n",
    "    tn, fp, fn, tp = sm.confusion_matrix(groundtruth_list, predicted_list,labels=[0,1]).ravel()\n",
    "    tn, fp, fn, tp = np.float64(tn), np.float64(fp), np.float64(fn), np.float64(tp)\n",
    "\n",
    "    return tn, fp, fn, tp\n",
    "\n",
    "def get_prec_rec_IoU_accuracy(groundtruth_list, predicted_list):\n",
    "    \"\"\"returns precision, recall, IoU and accuracy metrics\n",
    "\t\"\"\"\n",
    "    tn, fp, fn, tp = get_confusion_matrix_elements(groundtruth_list, predicted_list)\n",
    "    \n",
    "    total = tp + fp + fn + tn\n",
    "    accuracy = (tp + tn) / total\n",
    "    prec=tp/(tp+fp)\n",
    "    rec=tp/(tp+fn)\n",
    "    IoU=tp/(tp+fp+fn)\n",
    "    \n",
    "    return prec,rec,IoU,accuracy\n",
    "\n",
    "def get_f1_score(groundtruth_list, predicted_list):\n",
    "    \"\"\"Return f1 score covering edge cases\"\"\"\n",
    "\n",
    "    tn, fp, fn, tp = get_confusion_matrix_elements(groundtruth_list, predicted_list)\n",
    "    \n",
    "    f1_score = (2 * tp) / ((2 * tp) + fp + fn)\n",
    "\n",
    "    return f1_score\n",
    "\n",
    "def get_validation_metrics(groundtruth,predicted):\n",
    "    \"\"\"Return all output metrics. Input is binary images\"\"\"\n",
    "   \n",
    "    u,v=np.shape(groundtruth)\n",
    "    groundtruth_list=np.reshape(groundtruth,(u*v,))\n",
    "    predicted_list=np.reshape(predicted,(u*v,))\n",
    "    prec,rec,IoU,acc=get_prec_rec_IoU_accuracy(groundtruth_list, predicted_list)\n",
    "    f1_score=get_f1_score(groundtruth_list, predicted_list)\n",
    "   # print(\"Precision=\",prec, \"Recall=\",rec, \"IoU=\",IoU, \"acc=\",acc, \"F1=\",f1_score)\n",
    "    return prec,rec,IoU,acc,f1_score\n",
    "\n",
    "def evalResult(gth_path,npyfile,target_size=img_size,flag_multi_class = False,num_class = 3):\n",
    "    files=sorted(os.listdir(gth_path))\n",
    "    print(files)\n",
    "    prec=0\n",
    "    rec=0\n",
    "    acc=0\n",
    "    IoU=0\n",
    "    f1_score=0\n",
    "    for i,item in enumerate(npyfile):\n",
    "        img = item[:,:,0]\n",
    "        gth = io.imread(os.path.join(gth_path,files[i]))\n",
    "        gth = trans.resize(gth,target_size)\n",
    "        img1=np.array(((img - np.min(img))/np.ptp(img))>0.1).astype(float)\n",
    "        gth1=np.array(((gth - np.min(gth))/np.ptp(gth))>0.1).astype(float)\n",
    "        p,r,I,a,f=get_validation_metrics(gth1,img1)\n",
    "        prec=prec+p\n",
    "        rec=rec+r\n",
    "        acc=acc+a\n",
    "        IoU=IoU+I\n",
    "        f1_score=f1_score+f\n",
    "    print(\"Precision=\",prec/(i+1), \"Recall=\",rec/(i+1), \"IoU=\",IoU/(i+1), \"acc=\",acc/(i+1), \"F1=\",f1_score/(i+1))    "
   ]
  },
  {
   "cell_type": "markdown",
   "metadata": {},
   "source": [
    "# All definitions are now done! Lets start using the functions now...\n",
    "# B. Call to image data generator, model initialization, followed by model fitting."
   ]
  },
  {
   "cell_type": "code",
   "execution_count": 9,
   "metadata": {},
   "outputs": [],
   "source": [
    "#Step 1: Call to image data generator in keras\n",
    "data_gen_args = dict(rotation_range=0.3,\n",
    "                     rescale=1./255,\n",
    "                    width_shift_range=0.2,\n",
    "                    height_shift_range=0.2,\n",
    "                    shear_range=0.1,\n",
    "                    zoom_range=[0.7,1],\n",
    "                    horizontal_flip=True,\n",
    "                    vertical_flip=True,\n",
    "                    fill_mode='nearest')\n",
    "PATH='./Multi-class/train/'"
   ]
  },
  {
   "cell_type": "code",
   "execution_count": 10,
   "metadata": {},
   "outputs": [],
   "source": [
    "if not os.path.exists(PATH+'aug'):\n",
    "    os.makedirs(PATH+'aug')\n",
    "    \n",
    "if not os.path.exists(PATH+'pred'):\n",
    "    os.makedirs(PATH+'pred')    \n"
   ]
  },
  {
   "cell_type": "code",
   "execution_count": 11,
   "metadata": {},
   "outputs": [],
   "source": [
    "data_gen = trainGenerator(3,PATH,'images','GT',data_gen_args, save_to_dir = None)"
   ]
  },
  {
   "cell_type": "code",
   "execution_count": 12,
   "metadata": {},
   "outputs": [
    {
     "name": "stdout",
     "output_type": "stream",
     "text": [
      "Epoch 0\n",
      "Found 27 images belonging to 1 classes.\n",
      "Found 27 images belonging to 1 classes.\n",
      "0.8521705\n"
     ]
    },
    {
     "data": {
      "image/png": "[encoded data removed]",
      "text/plain": [
       "<Figure size 432x288 with 2 Axes>"
      ]
     },
     "metadata": {
      "needs_background": "light"
     },
     "output_type": "display_data"
    },
    {
     "name": "stdout",
     "output_type": "stream",
     "text": [
      "Epoch 1\n",
      "0.52508175\n"
     ]
    },
    {
     "data": {
      "image/png": "[encoded data removed]",
      "text/plain": [
       "<Figure size 432x288 with 2 Axes>"
      ]
     },
     "metadata": {
      "needs_background": "light"
     },
     "output_type": "display_data"
    },
    {
     "name": "stdout",
     "output_type": "stream",
     "text": [
      "Epoch 2\n",
      "0.7992455\n"
     ]
    },
    {
     "data": {
      "image/png": "[encoded data removed]",
      "text/plain": [
       "<Figure size 432x288 with 2 Axes>"
      ]
     },
     "metadata": {
      "needs_background": "light"
     },
     "output_type": "display_data"
    },
    {
     "name": "stdout",
     "output_type": "stream",
     "text": [
      "Epoch 3\n",
      "0.7124704\n"
     ]
    },
    {
     "data": {
      "image/png": "[encoded data removed]",
      "text/plain": [
       "<Figure size 432x288 with 2 Axes>"
      ]
     },
     "metadata": {
      "needs_background": "light"
     },
     "output_type": "display_data"
    },
    {
     "name": "stdout",
     "output_type": "stream",
     "text": [
      "Epoch 4\n",
      "0.831316\n"
     ]
    },
    {
     "data": {
      "image/png": "[encoded data removed]",
      "text/plain": [
       "<Figure size 432x288 with 2 Axes>"
      ]
     },
     "metadata": {
      "needs_background": "light"
     },
     "output_type": "display_data"
    }
   ],
   "source": [
    "for e in range(5):\n",
    "    print('Epoch', e)\n",
    "    batches = 0\n",
    "    for x_batch, y_batch in data_gen:\n",
    "        print(np.max(x_batch))\n",
    "        for i in range(0, 2):\n",
    "            plt.subplot(330+1 + i)\n",
    "            plt.imshow(y_batch[i], cmap=plt.get_cmap('gray'))\n",
    "        \n",
    "\n",
    "        plt.show()\n",
    "        \n",
    "        break"
   ]
  },
  {
   "cell_type": "code",
   "execution_count": 13,
   "metadata": {},
   "outputs": [
    {
     "name": "stdout",
     "output_type": "stream",
     "text": [
      "Model: \"model\"\n",
      "__________________________________________________________________________________________________\n",
      "Layer (type)                    Output Shape         Param #     Connected to                     \n",
      "==================================================================================================\n",
      "input_1 (InputLayer)            [(None, 512, 512, 1) 0                                            \n",
      "__________________________________________________________________________________________________\n",
      "conv2d (Conv2D)                 (None, 512, 512, 32) 320         input_1[0][0]                    \n",
      "__________________________________________________________________________________________________\n",
      "batch_normalization (BatchNorma (None, 512, 512, 32) 128         conv2d[0][0]                     \n",
      "__________________________________________________________________________________________________\n",
      "conv2d_1 (Conv2D)               (None, 512, 512, 32) 9248        batch_normalization[0][0]        \n",
      "__________________________________________________________________________________________________\n",
      "batch_normalization_1 (BatchNor (None, 512, 512, 32) 128         conv2d_1[0][0]                   \n",
      "__________________________________________________________________________________________________\n",
      "max_pooling2d (MaxPooling2D)    (None, 256, 256, 32) 0           batch_normalization_1[0][0]      \n",
      "__________________________________________________________________________________________________\n",
      "conv2d_2 (Conv2D)               (None, 256, 256, 64) 18496       max_pooling2d[0][0]              \n",
      "__________________________________________________________________________________________________\n",
      "batch_normalization_2 (BatchNor (None, 256, 256, 64) 256         conv2d_2[0][0]                   \n",
      "__________________________________________________________________________________________________\n",
      "conv2d_3 (Conv2D)               (None, 256, 256, 64) 36928       batch_normalization_2[0][0]      \n",
      "__________________________________________________________________________________________________\n",
      "batch_normalization_3 (BatchNor (None, 256, 256, 64) 256         conv2d_3[0][0]                   \n",
      "__________________________________________________________________________________________________\n",
      "max_pooling2d_1 (MaxPooling2D)  (None, 128, 128, 64) 0           batch_normalization_3[0][0]      \n",
      "__________________________________________________________________________________________________\n",
      "conv2d_4 (Conv2D)               (None, 128, 128, 128 73856       max_pooling2d_1[0][0]            \n",
      "__________________________________________________________________________________________________\n",
      "batch_normalization_4 (BatchNor (None, 128, 128, 128 512         conv2d_4[0][0]                   \n",
      "__________________________________________________________________________________________________\n",
      "conv2d_5 (Conv2D)               (None, 128, 128, 128 147584      batch_normalization_4[0][0]      \n",
      "__________________________________________________________________________________________________\n",
      "batch_normalization_5 (BatchNor (None, 128, 128, 128 512         conv2d_5[0][0]                   \n",
      "__________________________________________________________________________________________________\n",
      "max_pooling2d_2 (MaxPooling2D)  (None, 64, 64, 128)  0           batch_normalization_5[0][0]      \n",
      "__________________________________________________________________________________________________\n",
      "conv2d_6 (Conv2D)               (None, 64, 64, 256)  295168      max_pooling2d_2[0][0]            \n",
      "__________________________________________________________________________________________________\n",
      "batch_normalization_6 (BatchNor (None, 64, 64, 256)  1024        conv2d_6[0][0]                   \n",
      "__________________________________________________________________________________________________\n",
      "conv2d_7 (Conv2D)               (None, 64, 64, 256)  590080      batch_normalization_6[0][0]      \n",
      "__________________________________________________________________________________________________\n",
      "batch_normalization_7 (BatchNor (None, 64, 64, 256)  1024        conv2d_7[0][0]                   \n",
      "__________________________________________________________________________________________________\n",
      "dropout (Dropout)               (None, 64, 64, 256)  0           batch_normalization_7[0][0]      \n",
      "__________________________________________________________________________________________________\n",
      "conv2d_8 (Conv2D)               (None, 64, 64, 256)  590080      dropout[0][0]                    \n",
      "__________________________________________________________________________________________________\n",
      "batch_normalization_8 (BatchNor (None, 64, 64, 256)  1024        conv2d_8[0][0]                   \n",
      "__________________________________________________________________________________________________\n",
      "conv2d_9 (Conv2D)               (None, 64, 64, 256)  590080      batch_normalization_8[0][0]      \n",
      "__________________________________________________________________________________________________\n",
      "batch_normalization_9 (BatchNor (None, 64, 64, 256)  1024        conv2d_9[0][0]                   \n",
      "__________________________________________________________________________________________________\n",
      "dropout_1 (Dropout)             (None, 64, 64, 256)  0           batch_normalization_9[0][0]      \n",
      "__________________________________________________________________________________________________\n",
      "up_sampling2d (UpSampling2D)    (None, 128, 128, 256 0           dropout_1[0][0]                  \n",
      "__________________________________________________________________________________________________\n",
      "conv2d_10 (Conv2D)              (None, 128, 128, 128 131200      up_sampling2d[0][0]              \n",
      "__________________________________________________________________________________________________\n",
      "concatenate (Concatenate)       (None, 128, 128, 256 0           batch_normalization_5[0][0]      \n",
      "                                                                 conv2d_10[0][0]                  \n",
      "__________________________________________________________________________________________________\n",
      "conv2d_11 (Conv2D)              (None, 128, 128, 128 295040      concatenate[0][0]                \n",
      "__________________________________________________________________________________________________\n",
      "conv2d_12 (Conv2D)              (None, 128, 128, 128 147584      conv2d_11[0][0]                  \n",
      "__________________________________________________________________________________________________\n",
      "up_sampling2d_1 (UpSampling2D)  (None, 256, 256, 128 0           conv2d_12[0][0]                  \n",
      "__________________________________________________________________________________________________\n",
      "conv2d_13 (Conv2D)              (None, 256, 256, 64) 32832       up_sampling2d_1[0][0]            \n",
      "__________________________________________________________________________________________________\n",
      "concatenate_1 (Concatenate)     (None, 256, 256, 128 0           batch_normalization_3[0][0]      \n",
      "                                                                 conv2d_13[0][0]                  \n",
      "__________________________________________________________________________________________________\n",
      "conv2d_14 (Conv2D)              (None, 256, 256, 64) 73792       concatenate_1[0][0]              \n",
      "__________________________________________________________________________________________________\n",
      "conv2d_15 (Conv2D)              (None, 256, 256, 64) 36928       conv2d_14[0][0]                  \n",
      "__________________________________________________________________________________________________\n",
      "up_sampling2d_2 (UpSampling2D)  (None, 512, 512, 64) 0           conv2d_15[0][0]                  \n",
      "__________________________________________________________________________________________________\n",
      "conv2d_16 (Conv2D)              (None, 512, 512, 32) 8224        up_sampling2d_2[0][0]            \n",
      "__________________________________________________________________________________________________\n",
      "concatenate_2 (Concatenate)     (None, 512, 512, 64) 0           batch_normalization_1[0][0]      \n",
      "                                                                 conv2d_16[0][0]                  \n",
      "__________________________________________________________________________________________________\n",
      "conv2d_17 (Conv2D)              (None, 512, 512, 32) 18464       concatenate_2[0][0]              \n",
      "__________________________________________________________________________________________________\n",
      "conv2d_18 (Conv2D)              (None, 512, 512, 32) 9248        conv2d_17[0][0]                  \n",
      "__________________________________________________________________________________________________\n",
      "conv2d_19 (Conv2D)              (None, 512, 512, 3)  99          conv2d_18[0][0]                  \n",
      "==================================================================================================\n",
      "Total params: 3,111,139\n",
      "Trainable params: 3,108,195\n",
      "Non-trainable params: 2,944\n",
      "__________________________________________________________________________________________________\n"
     ]
    }
   ],
   "source": [
    "#Step 2: Initialize the model. Train from scratch!\n",
    "model = unet()\n",
    "model.summary()"
   ]
  },
  {
   "cell_type": "code",
   "execution_count": 14,
   "metadata": {},
   "outputs": [],
   "source": [
    "#Step 3: Initialize Tensorboard to monitor changes in Model Loss \n",
    "import datetime\n",
    "%load_ext tensorboard\n",
    "log_dir = \"logs/fit/\" + datetime.datetime.now().strftime(\"%Y%m%d-%H%M%S\")\n",
    "tensorboard_callback = tf.keras.callbacks.TensorBoard(log_dir=log_dir, histogram_freq=1)"
   ]
  },
  {
   "cell_type": "code",
   "execution_count": 15,
   "metadata": {
    "scrolled": true
   },
   "outputs": [
    {
     "data": {
      "text/plain": [
       "Reusing TensorBoard on port 6006 (pid 3833), started 0:06:26 ago. (Use '!kill 3833' to kill it.)"
      ]
     },
     "metadata": {},
     "output_type": "display_data"
    },
    {
     "data": {
      "text/html": [
       "\n",
       "      <iframe id=\"tensorboard-frame-da6b954a384b0b15\" width=\"100%\" height=\"800\" frameborder=\"0\">\n",
       "      </iframe>\n",
       "      <script>\n",
       "        (function() {\n",
       "          const frame = document.getElementById(\"tensorboard-frame-da6b954a384b0b15\");\n",
       "          const url = new URL(\"/\", window.location);\n",
       "          url.port = 6006;\n",
       "          frame.src = url;\n",
       "        })();\n",
       "      </script>\n",
       "  "
      ],
      "text/plain": [
       "<IPython.core.display.HTML object>"
      ]
     },
     "metadata": {},
     "output_type": "display_data"
    }
   ],
   "source": [
    "#Visualize on tensorboard (move this above)\n",
    "%tensorboard --logdir logs/fit"
   ]
  },
  {
   "cell_type": "code",
   "execution_count": 16,
   "metadata": {
    "scrolled": true
   },
   "outputs": [
    {
     "name": "stdout",
     "output_type": "stream",
     "text": [
      "Epoch 1/100\n",
      "20/20 [==============================] - 5s 245ms/step - loss: 0.7621 - accuracy: 0.6367\n",
      "Epoch 2/100\n",
      "20/20 [==============================] - 5s 249ms/step - loss: 0.6084 - accuracy: 0.7028\n",
      "Epoch 3/100\n",
      "20/20 [==============================] - 5s 247ms/step - loss: 0.6288 - accuracy: 0.6901\n",
      "Epoch 4/100\n",
      "20/20 [==============================] - 5s 247ms/step - loss: 0.6086 - accuracy: 0.6977\n",
      "Epoch 5/100\n",
      "20/20 [==============================] - 5s 249ms/step - loss: 0.5611 - accuracy: 0.7220\n",
      "Epoch 6/100\n",
      "20/20 [==============================] - 5s 251ms/step - loss: 0.5394 - accuracy: 0.7313\n",
      "Epoch 7/100\n",
      "20/20 [==============================] - 5s 259ms/step - loss: 0.5228 - accuracy: 0.7379\n",
      "Epoch 8/100\n",
      "20/20 [==============================] - 5s 250ms/step - loss: 0.4995 - accuracy: 0.7578\n",
      "Epoch 9/100\n",
      "20/20 [==============================] - 5s 251ms/step - loss: 0.5169 - accuracy: 0.7351\n",
      "Epoch 10/100\n",
      "20/20 [==============================] - 5s 249ms/step - loss: 0.4971 - accuracy: 0.7492\n",
      "Epoch 11/100\n",
      "20/20 [==============================] - 5s 250ms/step - loss: 0.4835 - accuracy: 0.7584\n",
      "Epoch 12/100\n",
      "20/20 [==============================] - 5s 252ms/step - loss: 0.4701 - accuracy: 0.7590\n",
      "Epoch 13/100\n",
      "20/20 [==============================] - 5s 251ms/step - loss: 0.4734 - accuracy: 0.7628\n",
      "Epoch 14/100\n",
      "20/20 [==============================] - 5s 251ms/step - loss: 0.4669 - accuracy: 0.7611\n",
      "Epoch 15/100\n",
      "20/20 [==============================] - 5s 250ms/step - loss: 0.4772 - accuracy: 0.7489\n",
      "Epoch 16/100\n",
      "20/20 [==============================] - 5s 255ms/step - loss: 0.4597 - accuracy: 0.7644\n",
      "Epoch 17/100\n",
      "20/20 [==============================] - 5s 250ms/step - loss: 0.4674 - accuracy: 0.7555\n",
      "Epoch 18/100\n",
      "20/20 [==============================] - 5s 250ms/step - loss: 0.4386 - accuracy: 0.7755\n",
      "Epoch 19/100\n",
      "20/20 [==============================] - 5s 257ms/step - loss: 0.4847 - accuracy: 0.7452\n",
      "Epoch 20/100\n",
      "20/20 [==============================] - 5s 252ms/step - loss: 0.4649 - accuracy: 0.7556\n",
      "Epoch 21/100\n",
      "20/20 [==============================] - 5s 251ms/step - loss: 0.4505 - accuracy: 0.7616\n",
      "Epoch 22/100\n",
      "20/20 [==============================] - 5s 256ms/step - loss: 0.4453 - accuracy: 0.7710\n",
      "Epoch 23/100\n",
      "20/20 [==============================] - 5s 250ms/step - loss: 0.4422 - accuracy: 0.7630\n",
      "Epoch 24/100\n",
      "20/20 [==============================] - 5s 256ms/step - loss: 0.4492 - accuracy: 0.7627\n",
      "Epoch 25/100\n",
      "20/20 [==============================] - 5s 253ms/step - loss: 0.4287 - accuracy: 0.7738\n",
      "Epoch 26/100\n",
      "20/20 [==============================] - 5s 257ms/step - loss: 0.4614 - accuracy: 0.7401\n",
      "Epoch 27/100\n",
      "20/20 [==============================] - 5s 255ms/step - loss: 0.4515 - accuracy: 0.7657\n",
      "Epoch 28/100\n",
      "20/20 [==============================] - 5s 251ms/step - loss: 0.4332 - accuracy: 0.7647\n",
      "Epoch 29/100\n",
      "20/20 [==============================] - 5s 252ms/step - loss: 0.4253 - accuracy: 0.7738\n",
      "Epoch 30/100\n",
      "20/20 [==============================] - 5s 256ms/step - loss: 0.4357 - accuracy: 0.7582\n",
      "Epoch 31/100\n",
      "20/20 [==============================] - 5s 251ms/step - loss: 0.4167 - accuracy: 0.7746\n",
      "Epoch 32/100\n",
      "20/20 [==============================] - 5s 251ms/step - loss: 0.4193 - accuracy: 0.7775\n",
      "Epoch 33/100\n",
      "20/20 [==============================] - 5s 252ms/step - loss: 0.4207 - accuracy: 0.7763\n",
      "Epoch 34/100\n",
      "20/20 [==============================] - 5s 256ms/step - loss: 0.3903 - accuracy: 0.7875\n",
      "Epoch 35/100\n",
      "20/20 [==============================] - 5s 259ms/step - loss: 0.4324 - accuracy: 0.7635\n",
      "Epoch 36/100\n",
      "20/20 [==============================] - 5s 254ms/step - loss: 0.4167 - accuracy: 0.7755\n",
      "Epoch 37/100\n",
      "20/20 [==============================] - 5s 252ms/step - loss: 0.4216 - accuracy: 0.7773\n",
      "Epoch 38/100\n",
      "20/20 [==============================] - 5s 257ms/step - loss: 0.4266 - accuracy: 0.7710\n",
      "Epoch 39/100\n",
      "20/20 [==============================] - 5s 254ms/step - loss: 0.4163 - accuracy: 0.7803\n",
      "Epoch 40/100\n",
      "20/20 [==============================] - 5s 253ms/step - loss: 0.4114 - accuracy: 0.7758\n",
      "Epoch 41/100\n",
      "20/20 [==============================] - 5s 255ms/step - loss: 0.4087 - accuracy: 0.7879\n",
      "Epoch 42/100\n",
      "20/20 [==============================] - 5s 253ms/step - loss: 0.3992 - accuracy: 0.7881\n",
      "Epoch 43/100\n",
      "20/20 [==============================] - 5s 252ms/step - loss: 0.4108 - accuracy: 0.7807\n",
      "Epoch 44/100\n",
      "20/20 [==============================] - 5s 253ms/step - loss: 0.4047 - accuracy: 0.7796\n",
      "Epoch 45/100\n",
      "20/20 [==============================] - 5s 254ms/step - loss: 0.3966 - accuracy: 0.7877\n",
      "Epoch 46/100\n",
      "20/20 [==============================] - 5s 255ms/step - loss: 0.3752 - accuracy: 0.8054\n",
      "Epoch 47/100\n",
      "20/20 [==============================] - 5s 252ms/step - loss: 0.4001 - accuracy: 0.7864\n",
      "Epoch 48/100\n",
      "20/20 [==============================] - 5s 255ms/step - loss: 0.3891 - accuracy: 0.7953\n",
      "Epoch 49/100\n",
      "20/20 [==============================] - 5s 255ms/step - loss: 0.4248 - accuracy: 0.7720\n",
      "Epoch 50/100\n",
      "20/20 [==============================] - 5s 255ms/step - loss: 0.3969 - accuracy: 0.7992\n",
      "Epoch 51/100\n",
      "20/20 [==============================] - 5s 254ms/step - loss: 0.3866 - accuracy: 0.8011\n",
      "Epoch 52/100\n",
      "20/20 [==============================] - 5s 254ms/step - loss: 0.3891 - accuracy: 0.7914\n",
      "Epoch 53/100\n",
      "20/20 [==============================] - 5s 251ms/step - loss: 0.3741 - accuracy: 0.8046\n",
      "Epoch 54/100\n",
      "20/20 [==============================] - 5s 253ms/step - loss: 0.3958 - accuracy: 0.7925\n",
      "Epoch 55/100\n",
      "20/20 [==============================] - 5s 256ms/step - loss: 0.3813 - accuracy: 0.8077\n",
      "Epoch 56/100\n",
      "20/20 [==============================] - 5s 258ms/step - loss: 0.3903 - accuracy: 0.7962\n",
      "Epoch 57/100\n",
      "20/20 [==============================] - 5s 258ms/step - loss: 0.3780 - accuracy: 0.8052\n",
      "Epoch 58/100\n",
      "20/20 [==============================] - 5s 252ms/step - loss: 0.3867 - accuracy: 0.7952\n",
      "Epoch 59/100\n",
      "20/20 [==============================] - 5s 251ms/step - loss: 0.3648 - accuracy: 0.8126\n",
      "Epoch 60/100\n",
      "20/20 [==============================] - 5s 255ms/step - loss: 0.3696 - accuracy: 0.8093\n",
      "Epoch 61/100\n",
      "20/20 [==============================] - 5s 258ms/step - loss: 0.3646 - accuracy: 0.8101\n",
      "Epoch 62/100\n",
      "20/20 [==============================] - 5s 250ms/step - loss: 0.3604 - accuracy: 0.8096\n",
      "Epoch 63/100\n",
      "20/20 [==============================] - 5s 255ms/step - loss: 0.3550 - accuracy: 0.8187\n",
      "Epoch 64/100\n",
      "20/20 [==============================] - 5s 254ms/step - loss: 0.3678 - accuracy: 0.8077\n",
      "Epoch 65/100\n",
      "20/20 [==============================] - 5s 255ms/step - loss: 0.3564 - accuracy: 0.8178\n",
      "Epoch 66/100\n",
      "20/20 [==============================] - 5s 250ms/step - loss: 0.3488 - accuracy: 0.8217\n",
      "Epoch 67/100\n",
      "20/20 [==============================] - 5s 250ms/step - loss: 0.3598 - accuracy: 0.8112\n",
      "Epoch 68/100\n",
      "20/20 [==============================] - 5s 249ms/step - loss: 0.3623 - accuracy: 0.8068\n",
      "Epoch 69/100\n",
      "20/20 [==============================] - 5s 251ms/step - loss: 0.3565 - accuracy: 0.8231\n",
      "Epoch 70/100\n",
      "20/20 [==============================] - 5s 252ms/step - loss: 0.3569 - accuracy: 0.8124\n",
      "Epoch 71/100\n",
      "20/20 [==============================] - 5s 253ms/step - loss: 0.3459 - accuracy: 0.8177\n",
      "Epoch 72/100\n",
      "20/20 [==============================] - 5s 253ms/step - loss: 0.3422 - accuracy: 0.8252\n",
      "Epoch 73/100\n",
      "20/20 [==============================] - 5s 250ms/step - loss: 0.3582 - accuracy: 0.8127\n",
      "Epoch 74/100\n",
      "20/20 [==============================] - 5s 250ms/step - loss: 0.3439 - accuracy: 0.8230\n",
      "Epoch 75/100\n",
      "20/20 [==============================] - 5s 257ms/step - loss: 0.3586 - accuracy: 0.8124\n",
      "Epoch 76/100\n",
      "20/20 [==============================] - 5s 251ms/step - loss: 0.3219 - accuracy: 0.8343\n",
      "Epoch 77/100\n",
      "20/20 [==============================] - 5s 250ms/step - loss: 0.3415 - accuracy: 0.8178\n",
      "Epoch 78/100\n",
      "20/20 [==============================] - 5s 253ms/step - loss: 0.3615 - accuracy: 0.8135\n",
      "Epoch 79/100\n",
      "20/20 [==============================] - 5s 253ms/step - loss: 0.3452 - accuracy: 0.8206\n",
      "Epoch 80/100\n",
      "20/20 [==============================] - 5s 256ms/step - loss: 0.3356 - accuracy: 0.8269\n",
      "Epoch 81/100\n"
     ]
    },
    {
     "name": "stdout",
     "output_type": "stream",
     "text": [
      "20/20 [==============================] - 5s 257ms/step - loss: 0.3371 - accuracy: 0.8240\n",
      "Epoch 82/100\n",
      "20/20 [==============================] - 5s 251ms/step - loss: 0.3298 - accuracy: 0.8231\n",
      "Epoch 83/100\n",
      "20/20 [==============================] - 5s 250ms/step - loss: 0.3209 - accuracy: 0.8348\n",
      "Epoch 84/100\n",
      "20/20 [==============================] - 5s 257ms/step - loss: 0.3356 - accuracy: 0.8228\n",
      "Epoch 85/100\n",
      "20/20 [==============================] - 5s 250ms/step - loss: 0.3400 - accuracy: 0.8241\n",
      "Epoch 86/100\n",
      "20/20 [==============================] - 5s 250ms/step - loss: 0.3292 - accuracy: 0.8249\n",
      "Epoch 87/100\n",
      "20/20 [==============================] - 5s 255ms/step - loss: 0.3236 - accuracy: 0.8353\n",
      "Epoch 88/100\n",
      "20/20 [==============================] - 5s 254ms/step - loss: 0.3250 - accuracy: 0.8286\n",
      "Epoch 89/100\n",
      "20/20 [==============================] - 5s 252ms/step - loss: 0.3250 - accuracy: 0.8272\n",
      "Epoch 90/100\n",
      "20/20 [==============================] - 5s 253ms/step - loss: 0.3246 - accuracy: 0.8322\n",
      "Epoch 91/100\n",
      "20/20 [==============================] - 5s 252ms/step - loss: 0.3198 - accuracy: 0.8359\n",
      "Epoch 92/100\n",
      "20/20 [==============================] - 5s 260ms/step - loss: 0.3314 - accuracy: 0.8278\n",
      "Epoch 93/100\n",
      "20/20 [==============================] - 5s 249ms/step - loss: 0.3082 - accuracy: 0.8363\n",
      "Epoch 94/100\n",
      "20/20 [==============================] - 5s 260ms/step - loss: 0.3258 - accuracy: 0.8264\n",
      "Epoch 95/100\n",
      "20/20 [==============================] - 5s 251ms/step - loss: 0.3137 - accuracy: 0.8396\n",
      "Epoch 96/100\n",
      "20/20 [==============================] - 5s 253ms/step - loss: 0.3304 - accuracy: 0.8265\n",
      "Epoch 97/100\n",
      "20/20 [==============================] - 5s 251ms/step - loss: 0.3091 - accuracy: 0.8358\n",
      "Epoch 98/100\n",
      "20/20 [==============================] - 5s 250ms/step - loss: 0.3143 - accuracy: 0.8307\n",
      "Epoch 99/100\n",
      "20/20 [==============================] - 5s 251ms/step - loss: 0.3164 - accuracy: 0.8316\n",
      "Epoch 100/100\n",
      "20/20 [==============================] - 5s 254ms/step - loss: 0.3236 - accuracy: 0.8287\n"
     ]
    },
    {
     "data": {
      "text/plain": [
       "<tensorflow.python.keras.callbacks.History at 0x7ff500351130>"
      ]
     },
     "execution_count": 16,
     "metadata": {},
     "output_type": "execute_result"
    }
   ],
   "source": [
    "#Step 4: Fit the u-net model\n",
    "model_checkpoint = tf.keras.callbacks.ModelCheckpoint('unet_DB1_multi.hdf5', monitor='loss',verbose=0)\n",
    "model.fit(data_gen,steps_per_epoch=20,epochs=100,verbose=1, callbacks=[model_checkpoint, tensorboard_callback])"
   ]
  },
  {
   "cell_type": "markdown",
   "metadata": {},
   "source": [
    "# Final trained model is saved as unet_DB1.hdf5\n",
    "# C. Run the trained model on test images and save the outputs, and evaluate pixel-level segmentation performance "
   ]
  },
  {
   "cell_type": "code",
   "execution_count": 17,
   "metadata": {
    "scrolled": true
   },
   "outputs": [
    {
     "name": "stdout",
     "output_type": "stream",
     "text": [
      "WARNING:tensorflow:From <ipython-input-17-84da24e2bfdb>:7: Model.predict_generator (from tensorflow.python.keras.engine.training) is deprecated and will be removed in a future version.\n",
      "Instructions for updating:\n",
      "Please use Model.predict, which supports generators.\n",
      "image028.png\n",
      "image029.png\n",
      " 1/62 [..............................] - ETA: 0simage030.png\n",
      " 3/62 [>.............................] - ETA: 1simage031.png\n",
      " 4/62 [>.............................] - ETA: 2simage032.png\n",
      " 5/62 [=>............................] - ETA: 2simage033.png\n",
      " 6/62 [=>............................] - ETA: 2simage034.png\n",
      " 7/62 [==>...........................] - ETA: 2simage035.png\n",
      " 8/62 [==>...........................] - ETA: 2simage036.png\n",
      " 9/62 [===>..........................] - ETA: 2simage037.png\n",
      "10/62 [===>..........................] - ETA: 2simage038.png\n",
      "11/62 [====>.........................] - ETA: 2simage039.png\n",
      "12/62 [====>.........................] - ETA: 2simage040.png\n",
      "13/62 [=====>........................] - ETA: 2simage041.png\n",
      "14/62 [=====>........................] - ETA: 2simage042.png\n",
      "15/62 [======>.......................] - ETA: 2simage043.png\n",
      "16/62 [======>.......................] - ETA: 2simage044.png\n",
      "17/62 [=======>......................] - ETA: 2simage045.png\n",
      "18/62 [=======>......................] - ETA: 2simage046.png\n",
      "19/62 [========>.....................] - ETA: 2simage047.png\n",
      "20/62 [========>.....................] - ETA: 2simage048.png\n",
      "21/62 [=========>....................] - ETA: 2simage049.png\n",
      "22/62 [=========>....................] - ETA: 2simage050.png\n",
      "23/62 [==========>...................] - ETA: 2simage051.png\n",
      "24/62 [==========>...................] - ETA: 2simage052.png\n",
      "25/62 [===========>..................] - ETA: 2simage053.png\n",
      "26/62 [===========>..................] - ETA: 2simage054.png\n",
      "27/62 [============>.................] - ETA: 2simage055.png\n",
      "28/62 [============>.................] - ETA: 2simage056.png\n",
      "29/62 [=============>................] - ETA: 2simage057.png\n",
      "30/62 [=============>................] - ETA: 1simage058.png\n",
      "31/62 [==============>...............] - ETA: 1simage059.png\n",
      "32/62 [==============>...............] - ETA: 1simage060.png\n",
      "33/62 [==============>...............] - ETA: 1simage061.png\n",
      "34/62 [===============>..............] - ETA: 1simage062.png\n",
      "35/62 [===============>..............] - ETA: 1simage063.png\n",
      "36/62 [================>.............] - ETA: 1simage064.png\n",
      "37/62 [================>.............] - ETA: 1simage065.png\n",
      "38/62 [=================>............] - ETA: 1simage066.png\n",
      "39/62 [=================>............] - ETA: 1simage067.png\n",
      "40/62 [==================>...........] - ETA: 1simage068.png\n",
      "41/62 [==================>...........] - ETA: 1simage069.png\n",
      "42/62 [===================>..........] - ETA: 1simage070.png\n",
      "43/62 [===================>..........] - ETA: 1simage071.png\n",
      "44/62 [====================>.........] - ETA: 1simage072.png\n",
      "45/62 [====================>.........] - ETA: 1simage073.png\n",
      "46/62 [=====================>........] - ETA: 0simage074.png\n",
      "47/62 [=====================>........] - ETA: 0simage075.png\n",
      "48/62 [======================>.......] - ETA: 0simage076.png\n",
      "49/62 [======================>.......] - ETA: 0simage077.png\n",
      "50/62 [=======================>......] - ETA: 0simage078.png\n",
      "51/62 [=======================>......] - ETA: 0simage079.png\n",
      "52/62 [========================>.....] - ETA: 0simage080.png\n",
      "53/62 [========================>.....] - ETA: 0simage081.png\n",
      "54/62 [=========================>....] - ETA: 0simage082.png\n",
      "55/62 [=========================>....] - ETA: 0simage083.png\n",
      "56/62 [==========================>...] - ETA: 0simage084.png\n",
      "57/62 [==========================>...] - ETA: 0simage085.png\n",
      "58/62 [===========================>..] - ETA: 0simage086.png\n",
      "59/62 [===========================>..] - ETA: 0simage087.png\n",
      "60/62 [============================>.] - ETA: 0simage088.png\n",
      "61/62 [============================>.] - ETA: 0simage089.png\n",
      "62/62 [==============================] - 4s 61ms/step\n"
     ]
    }
   ],
   "source": [
    "#Step 1: Run model on test images and save the images\n",
    "#number of test images\n",
    "n_i=len(os.listdir('./Multi-class/test/images/'))\n",
    "#Call test generator\n",
    "test_gen = testGenerator('./Multi-class/test/images/')\n",
    "#Return model outcome for each test image\n",
    "results = model.predict_generator(test_gen,n_i,verbose=1)\n"
   ]
  },
  {
   "cell_type": "code",
   "execution_count": 18,
   "metadata": {},
   "outputs": [],
   "source": [
    "#saveResult('./Multi-class/test/images',PATH+'pred/',results)"
   ]
  },
  {
   "cell_type": "code",
   "execution_count": 19,
   "metadata": {},
   "outputs": [
    {
     "name": "stderr",
     "output_type": "stream",
     "text": [
      "Lossy conversion from float32 to uint8. Range [0, 1]. Convert image to uint8 prior to saving to suppress this warning.\n",
      "Lossy conversion from float32 to uint8. Range [0, 1]. Convert image to uint8 prior to saving to suppress this warning.\n",
      "Lossy conversion from float32 to uint8. Range [0, 1]. Convert image to uint8 prior to saving to suppress this warning.\n",
      "Lossy conversion from float32 to uint8. Range [0, 1]. Convert image to uint8 prior to saving to suppress this warning.\n",
      "Lossy conversion from float32 to uint8. Range [0, 1]. Convert image to uint8 prior to saving to suppress this warning.\n",
      "Lossy conversion from float32 to uint8. Range [0, 1]. Convert image to uint8 prior to saving to suppress this warning.\n",
      "Lossy conversion from float32 to uint8. Range [0, 1]. Convert image to uint8 prior to saving to suppress this warning.\n",
      "Lossy conversion from float32 to uint8. Range [0, 1]. Convert image to uint8 prior to saving to suppress this warning.\n",
      "Lossy conversion from float32 to uint8. Range [0, 1]. Convert image to uint8 prior to saving to suppress this warning.\n",
      "Lossy conversion from float32 to uint8. Range [0, 1]. Convert image to uint8 prior to saving to suppress this warning.\n",
      "Lossy conversion from float32 to uint8. Range [0, 1]. Convert image to uint8 prior to saving to suppress this warning.\n",
      "Lossy conversion from float32 to uint8. Range [0, 1]. Convert image to uint8 prior to saving to suppress this warning.\n",
      "Lossy conversion from float32 to uint8. Range [0, 1]. Convert image to uint8 prior to saving to suppress this warning.\n",
      "Lossy conversion from float32 to uint8. Range [0, 1]. Convert image to uint8 prior to saving to suppress this warning.\n",
      "Lossy conversion from float32 to uint8. Range [0, 1]. Convert image to uint8 prior to saving to suppress this warning.\n",
      "Lossy conversion from float32 to uint8. Range [0, 1]. Convert image to uint8 prior to saving to suppress this warning.\n",
      "Lossy conversion from float32 to uint8. Range [0, 1]. Convert image to uint8 prior to saving to suppress this warning.\n",
      "Lossy conversion from float32 to uint8. Range [0, 1]. Convert image to uint8 prior to saving to suppress this warning.\n",
      "Lossy conversion from float32 to uint8. Range [0, 1]. Convert image to uint8 prior to saving to suppress this warning.\n",
      "Lossy conversion from float32 to uint8. Range [0, 1]. Convert image to uint8 prior to saving to suppress this warning.\n",
      "Lossy conversion from float32 to uint8. Range [0, 1]. Convert image to uint8 prior to saving to suppress this warning.\n",
      "Lossy conversion from float32 to uint8. Range [0, 1]. Convert image to uint8 prior to saving to suppress this warning.\n",
      "Lossy conversion from float32 to uint8. Range [0, 1]. Convert image to uint8 prior to saving to suppress this warning.\n",
      "Lossy conversion from float32 to uint8. Range [0, 1]. Convert image to uint8 prior to saving to suppress this warning.\n",
      "Lossy conversion from float32 to uint8. Range [0, 1]. Convert image to uint8 prior to saving to suppress this warning.\n",
      "Lossy conversion from float32 to uint8. Range [0, 1]. Convert image to uint8 prior to saving to suppress this warning.\n",
      "Lossy conversion from float32 to uint8. Range [0, 1]. Convert image to uint8 prior to saving to suppress this warning.\n",
      "Lossy conversion from float32 to uint8. Range [0, 1]. Convert image to uint8 prior to saving to suppress this warning.\n",
      "Lossy conversion from float32 to uint8. Range [0, 1]. Convert image to uint8 prior to saving to suppress this warning.\n",
      "Lossy conversion from float32 to uint8. Range [0, 1]. Convert image to uint8 prior to saving to suppress this warning.\n",
      "Lossy conversion from float32 to uint8. Range [0, 1]. Convert image to uint8 prior to saving to suppress this warning.\n",
      "Lossy conversion from float32 to uint8. Range [0, 1]. Convert image to uint8 prior to saving to suppress this warning.\n",
      "Lossy conversion from float32 to uint8. Range [0, 1]. Convert image to uint8 prior to saving to suppress this warning.\n",
      "Lossy conversion from float32 to uint8. Range [0, 1]. Convert image to uint8 prior to saving to suppress this warning.\n",
      "Lossy conversion from float32 to uint8. Range [0, 1]. Convert image to uint8 prior to saving to suppress this warning.\n",
      "Lossy conversion from float32 to uint8. Range [0, 1]. Convert image to uint8 prior to saving to suppress this warning.\n",
      "Lossy conversion from float32 to uint8. Range [0, 1]. Convert image to uint8 prior to saving to suppress this warning.\n",
      "Lossy conversion from float32 to uint8. Range [0, 1]. Convert image to uint8 prior to saving to suppress this warning.\n",
      "Lossy conversion from float32 to uint8. Range [0, 1]. Convert image to uint8 prior to saving to suppress this warning.\n",
      "Lossy conversion from float32 to uint8. Range [0, 1]. Convert image to uint8 prior to saving to suppress this warning.\n",
      "Lossy conversion from float32 to uint8. Range [0, 1]. Convert image to uint8 prior to saving to suppress this warning.\n",
      "Lossy conversion from float32 to uint8. Range [0, 1]. Convert image to uint8 prior to saving to suppress this warning.\n",
      "Lossy conversion from float32 to uint8. Range [0, 1]. Convert image to uint8 prior to saving to suppress this warning.\n",
      "Lossy conversion from float32 to uint8. Range [0, 1]. Convert image to uint8 prior to saving to suppress this warning.\n",
      "Lossy conversion from float32 to uint8. Range [0, 1]. Convert image to uint8 prior to saving to suppress this warning.\n",
      "Lossy conversion from float32 to uint8. Range [0, 1]. Convert image to uint8 prior to saving to suppress this warning.\n",
      "Lossy conversion from float32 to uint8. Range [0, 1]. Convert image to uint8 prior to saving to suppress this warning.\n",
      "Lossy conversion from float32 to uint8. Range [0, 1]. Convert image to uint8 prior to saving to suppress this warning.\n",
      "Lossy conversion from float32 to uint8. Range [0, 1]. Convert image to uint8 prior to saving to suppress this warning.\n",
      "Lossy conversion from float32 to uint8. Range [0, 1]. Convert image to uint8 prior to saving to suppress this warning.\n",
      "Lossy conversion from float32 to uint8. Range [0, 1]. Convert image to uint8 prior to saving to suppress this warning.\n",
      "Lossy conversion from float32 to uint8. Range [0, 1]. Convert image to uint8 prior to saving to suppress this warning.\n",
      "Lossy conversion from float32 to uint8. Range [0, 1]. Convert image to uint8 prior to saving to suppress this warning.\n",
      "Lossy conversion from float32 to uint8. Range [0, 1]. Convert image to uint8 prior to saving to suppress this warning.\n",
      "Lossy conversion from float32 to uint8. Range [0, 1]. Convert image to uint8 prior to saving to suppress this warning.\n",
      "Lossy conversion from float32 to uint8. Range [0, 1]. Convert image to uint8 prior to saving to suppress this warning.\n",
      "Lossy conversion from float32 to uint8. Range [0, 1]. Convert image to uint8 prior to saving to suppress this warning.\n",
      "Lossy conversion from float32 to uint8. Range [0, 1]. Convert image to uint8 prior to saving to suppress this warning.\n",
      "Lossy conversion from float32 to uint8. Range [0, 1]. Convert image to uint8 prior to saving to suppress this warning.\n",
      "Lossy conversion from float32 to uint8. Range [0, 1]. Convert image to uint8 prior to saving to suppress this warning.\n",
      "Lossy conversion from float32 to uint8. Range [0, 1]. Convert image to uint8 prior to saving to suppress this warning.\n",
      "Lossy conversion from float32 to uint8. Range [0, 1]. Convert image to uint8 prior to saving to suppress this warning.\n"
     ]
    }
   ],
   "source": [
    "SaveResultwImage('./Multi-class/test/images',PATH+'predt/',results)"
   ]
  },
  {
   "cell_type": "code",
   "execution_count": 20,
   "metadata": {},
   "outputs": [
    {
     "name": "stdout",
     "output_type": "stream",
     "text": [
      "4409332.0\n"
     ]
    }
   ],
   "source": [
    "print(np.sum(results))"
   ]
  },
  {
   "cell_type": "code",
   "execution_count": 21,
   "metadata": {},
   "outputs": [
    {
     "data": {
      "text/plain": [
       "<matplotlib.image.AxesImage at 0x7ff4d846d220>"
      ]
     },
     "execution_count": 21,
     "metadata": {},
     "output_type": "execute_result"
    },
    {
     "data": {
      "image/png": "[encoded data removed]",
      "text/plain": [
       "<Figure size 432x288 with 1 Axes>"
      ]
     },
     "metadata": {
      "needs_background": "light"
     },
     "output_type": "display_data"
    }
   ],
   "source": [
    "plt.imshow(results[0][:,:,1])"
   ]
  },
  {
   "cell_type": "code",
   "execution_count": 22,
   "metadata": {},
   "outputs": [
    {
     "data": {
      "text/plain": [
       "<matplotlib.image.AxesImage at 0x7ff4d83c30a0>"
      ]
     },
     "execution_count": 22,
     "metadata": {},
     "output_type": "execute_result"
    },
    {
     "data": {
      "image/png": "[encoded data removed]",
      "text/plain": [
       "<Figure size 432x288 with 1 Axes>"
      ]
     },
     "metadata": {
      "needs_background": "light"
     },
     "output_type": "display_data"
    }
   ],
   "source": [
    "plt.imshow(results[1])"
   ]
  },
  {
   "cell_type": "code",
   "execution_count": null,
   "metadata": {},
   "outputs": [],
   "source": [
    "\n",
    "\n",
    "\n",
    "\n"
   ]
  }
 ],
 "metadata": {
  "kernelspec": {
   "display_name": "Python 3",
   "language": "python",
   "name": "python3"
  },
  "language_info": {
   "codemirror_mode": {
    "name": "ipython",
    "version": 3
   },
   "file_extension": ".py",
   "mimetype": "text/x-python",
   "name": "python",
   "nbconvert_exporter": "python",
   "pygments_lexer": "ipython3",
   "version": "3.8.5"
  }
 },
 "nbformat": 4,
 "nbformat_minor": 4
}
